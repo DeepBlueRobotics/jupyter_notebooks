{
 "cells": [
  {
   "cell_type": "code",
   "execution_count": 89,
   "metadata": {
    "jupyter": {
     "source_hidden": true
    }
   },
   "outputs": [],
   "source": [
    "from sympy import *\n",
    "init_printing()\n",
    "I_m = symbols(\"I_m\", real=True, finite=True, nonzero=True)\n",
    "R_m = symbols(\"R_m\", real=True, finite=True, positive=True)\n",
    "w_f=symbols(\"\\\\omega_\\%\",real=True,finite=True)\n",
    "V_bat = symbols(\"V_bat\", real=True, finite=True, nonnegative=True)\n",
    "p = symbols(\"p\", real=True, finite=True, positive=True)\n",
    "R_sys = symbols(\"R_sys\", real=True, finite=True, positive=True)"
   ]
  },
  {
   "cell_type": "markdown",
   "metadata": {},
   "source": [
    "# Finding the motor current extrema\n",
    "\n",
    "Below we will use basic calculus to find the duty cycle $p$ that corresponds to the maximum and minimum (i.e. most negative) motor current. The values of $p$ we find might not be achievable (e.g. outside of the range from -1 to 1), but we ignore that for the purposes of this analysis. We start with our formula for the motor current $I_m$:"
   ]
  },
  {
   "cell_type": "code",
   "execution_count": 90,
   "metadata": {
    "jupyter": {
     "source_hidden": true
    }
   },
   "outputs": [
    {
     "data": {
      "image/png": "[encoded data removed]",
      "text/latex": [
       "$\\displaystyle I_{m} = \\frac{V_{bat} \\left(- \\omega_\\% + p\\right)}{R_{m} + R_{sys} p^{2}}$"
      ],
      "text/plain": [
       "     V_bat⋅(-\\omega_\\% + p)\n",
       "Iₘ = ──────────────────────\n",
       "                     2     \n",
       "         Rₘ + R_sys⋅p      "
      ]
     },
     "execution_count": 90,
     "metadata": {},
     "output_type": "execute_result"
    }
   ],
   "source": [
    "I_m_from_p_w_f=Eq(I_m, V_bat*(-w_f + p)/(R_m + R_sys*p**2))\n",
    "I_m_from_p_w_f"
   ]
  },
  {
   "cell_type": "markdown",
   "metadata": {},
   "source": [
    "Find the derivative"
   ]
  },
  {
   "cell_type": "code",
   "execution_count": 91,
   "metadata": {
    "jupyter": {
     "source_hidden": true
    }
   },
   "outputs": [
    {
     "data": {
      "image/png": "[encoded data removed]",
      "text/latex": [
       "$\\displaystyle \\frac{d}{d p} I_{m} = - \\frac{V_{bat} \\left(- R_{m} - 2 R_{sys} \\omega_\\% p + R_{sys} p^{2}\\right)}{\\left(R_{m} + R_{sys} p^{2}\\right)^{2}}$"
      ],
      "text/plain": [
       "                ⎛                                   2⎞ \n",
       "d        -V_bat⋅⎝-Rₘ - 2⋅R_sys⋅\\omega_\\%⋅p + R_sys⋅p ⎠ \n",
       "──(Iₘ) = ──────────────────────────────────────────────\n",
       "dp                                     2               \n",
       "                        ⎛            2⎞                \n",
       "                        ⎝Rₘ + R_sys⋅p ⎠                "
      ]
     },
     "metadata": {},
     "output_type": "display_data"
    }
   ],
   "source": [
    "dIm_dp=factor(diff(I_m_from_p_w_f.rhs,p))\n",
    "display(Eq(diff(I_m,p,evaluate=false), dIm_dp))"
   ]
  },
  {
   "cell_type": "markdown",
   "metadata": {},
   "source": [
    "Set it equal to zero"
   ]
  },
  {
   "cell_type": "code",
   "execution_count": 92,
   "metadata": {
    "jupyter": {
     "source_hidden": true
    }
   },
   "outputs": [
    {
     "data": {
      "image/png": "[encoded data removed]",
      "text/latex": [
       "$\\displaystyle - \\frac{V_{bat} \\left(- R_{m} - 2 R_{sys} \\omega_\\% p + R_{sys} p^{2}\\right)}{\\left(R_{m} + R_{sys} p^{2}\\right)^{2}} = 0$"
      ],
      "text/plain": [
       "       ⎛                                   2⎞     \n",
       "-V_bat⋅⎝-Rₘ - 2⋅R_sys⋅\\omega_\\%⋅p + R_sys⋅p ⎠     \n",
       "────────────────────────────────────────────── = 0\n",
       "                              2                   \n",
       "               ⎛            2⎞                    \n",
       "               ⎝Rₘ + R_sys⋅p ⎠                    "
      ]
     },
     "metadata": {},
     "output_type": "display_data"
    }
   ],
   "source": [
    "rel16=Eq(dIm_dp,0)\n",
    "display(rel16)"
   ]
  },
  {
   "cell_type": "markdown",
   "metadata": {},
   "source": [
    "Multiply both sides by the denominator and divide by $-V_{bat}$ (which are both clearly nonzero) "
   ]
  },
  {
   "cell_type": "code",
   "execution_count": 93,
   "metadata": {
    "jupyter": {
     "source_hidden": true
    }
   },
   "outputs": [
    {
     "data": {
      "image/png": "[encoded data removed]",
      "text/latex": [
       "$\\displaystyle - R_{m} - 2 R_{sys} \\omega_\\% p + R_{sys} p^{2} = 0$"
      ],
      "text/plain": [
       "                                   2    \n",
       "-Rₘ - 2⋅R_sys⋅\\omega_\\%⋅p + R_sys⋅p  = 0"
      ]
     },
     "execution_count": 93,
     "metadata": {},
     "output_type": "execute_result"
    }
   ],
   "source": [
    "rel16=Eq(fraction(rel16.lhs)[0]/(-V_bat),rel16.rhs)\n",
    "rel16"
   ]
  },
  {
   "cell_type": "markdown",
   "metadata": {},
   "source": [
    "Solve for $p$ to find the stationary points:"
   ]
  },
  {
   "cell_type": "code",
   "execution_count": 94,
   "metadata": {
    "jupyter": {
     "source_hidden": true
    }
   },
   "outputs": [
    {
     "data": {
      "image/png": "[encoded data removed]",
      "text/latex": [
       "$\\displaystyle p = \\left\\{\\omega_\\% - \\frac{\\sqrt{R_{m} + R_{sys} \\omega_\\%^{2}}}{\\sqrt{R_{sys}}}, \\omega_\\% + \\frac{\\sqrt{R_{m} + R_{sys} \\omega_\\%^{2}}}{\\sqrt{R_{sys}}}\\right\\}$"
      ],
      "text/plain": [
       "    ⎧               _______________________                 __________________\n",
       "    ⎪              ╱                     2                 ╱                  \n",
       "    ⎪            ╲╱  Rₘ + R_sys⋅\\omega_\\%                ╲╱  Rₘ + R_sys⋅\\omega\n",
       "p = ⎨\\omega_\\% - ──────────────────────────, \\omega_\\% + ─────────────────────\n",
       "    ⎪                      _______                                 _______    \n",
       "    ⎪                    ╲╱ R_sys                                ╲╱ R_sys     \n",
       "    ⎩                                                                         \n",
       "\n",
       "_____⎫\n",
       "   2 ⎪\n",
       "_\\%  ⎪\n",
       "─────⎬\n",
       "     ⎪\n",
       "     ⎪\n",
       "     ⎭"
      ]
     },
     "metadata": {},
     "output_type": "display_data"
    }
   ],
   "source": [
    "sols = solveset(rel16,p)\n",
    "display(Eq(p,sols,evaluate=false))"
   ]
  },
  {
   "cell_type": "markdown",
   "metadata": {},
   "source": [
    "## Proving they are the maximum and minimum the easy way (with logic)"
   ]
  },
  {
   "cell_type": "markdown",
   "metadata": {},
   "source": [
    "Each of those points could be a minimum, a maximum, or a saddle point. To see that the one less than $\\omega_\\%$ is a minimum and the one greater than $\\omega_\\%$ is a maximum, consider the behavior of $I_m$ for $p=\\omega_\\%$, and as $p$ approaches $+\\infty$ and $-\\infty$.\n",
    "\n",
    "At $p=\\omega_\\%$, $I_m=0$ and is rising (because the derivative is positive), and as $p$ approaches $+\\infty$ and $-\\infty$, $I_m$ approaches 0 (because the highest power of $p$ in the denominator is more than the highest power of $p$ in the numerator). That means there must be a maximum for some $p>\\omega_\\%$ and a minimum for some $p<\\omega_\\%$. Those correspond to the 2 stationary points above."
   ]
  },
  {
   "cell_type": "markdown",
   "metadata": {},
   "source": [
    "## Proving they are the maximum and minimum the hard way (with algebra)"
   ]
  },
  {
   "cell_type": "markdown",
   "metadata": {},
   "source": [
    "Alternatively, we can find the second deriviative $d^2I_m/dp^2$:"
   ]
  },
  {
   "cell_type": "code",
   "execution_count": 95,
   "metadata": {
    "jupyter": {
     "source_hidden": true
    }
   },
   "outputs": [
    {
     "data": {
      "image/png": "[encoded data removed]",
      "text/latex": [
       "$\\displaystyle \\frac{d^{2}}{d p^{2}} I_{m} = \\frac{2 R_{sys} V_{bat} \\left(2 p \\left(- R_{m} - 2 R_{sys} \\omega_\\% p + R_{sys} p^{2}\\right) - \\left(R_{m} + R_{sys} p^{2}\\right) \\left(- \\omega_\\% + p\\right)\\right)}{\\left(R_{m} + R_{sys} p^{2}\\right)^{3}}$"
      ],
      "text/plain": [
       "  2                     ⎛    ⎛                                   2⎞   ⎛       \n",
       " d        2⋅R_sys⋅V_bat⋅⎝2⋅p⋅⎝-Rₘ - 2⋅R_sys⋅\\omega_\\%⋅p + R_sys⋅p ⎠ - ⎝Rₘ + R_\n",
       "───(Iₘ) = ────────────────────────────────────────────────────────────────────\n",
       "  2                                                             3             \n",
       "dp                                               ⎛            2⎞              \n",
       "                                                 ⎝Rₘ + R_sys⋅p ⎠              \n",
       "\n",
       "     2⎞                 ⎞\n",
       "sys⋅p ⎠⋅(-\\omega_\\% + p)⎠\n",
       "─────────────────────────\n",
       "                         \n",
       "                         \n",
       "                         "
      ]
     },
     "metadata": {},
     "output_type": "display_data"
    }
   ],
   "source": [
    "d2Im_dp2=together(diff(dIm_dp,p))\n",
    "display(Eq(diff(I_m,p,p,evaluate=false),d2Im_dp2))"
   ]
  },
  {
   "cell_type": "markdown",
   "metadata": {},
   "source": [
    "and evaluate it at each of the stationary points to see if it is negative (indicating a maximum) or positive (indicating a minimum). We can start by simplifying the expression by eliminating things that will not affect its sign. In particular, the denominator and $2R_{sys}V_{bat}$ are both strictly positive, so we can ignore them and focus on this expression:"
   ]
  },
  {
   "cell_type": "code",
   "execution_count": 96,
   "metadata": {
    "jupyter": {
     "source_hidden": true
    }
   },
   "outputs": [
    {
     "data": {
      "image/png": "[encoded data removed]",
      "text/latex": [
       "$\\displaystyle 2 p \\left(- R_{m} - 2 R_{sys} \\omega_\\% p + R_{sys} p^{2}\\right) - \\left(R_{m} + R_{sys} p^{2}\\right) \\left(- \\omega_\\% + p\\right)$"
      ],
      "text/plain": [
       "    ⎛                                   2⎞   ⎛            2⎞                 \n",
       "2⋅p⋅⎝-Rₘ - 2⋅R_sys⋅\\omega_\\%⋅p + R_sys⋅p ⎠ - ⎝Rₘ + R_sys⋅p ⎠⋅(-\\omega_\\% + p)"
      ]
     },
     "metadata": {},
     "output_type": "display_data"
    }
   ],
   "source": [
    "ex=fraction(d2Im_dp2)[0]/(2*R_sys*V_bat)\n",
    "display(ex)"
   ]
  },
  {
   "cell_type": "markdown",
   "metadata": {},
   "source": [
    "Which we can rewrite as a polynomial in p"
   ]
  },
  {
   "cell_type": "code",
   "execution_count": 97,
   "metadata": {
    "jupyter": {
     "source_hidden": true
    }
   },
   "outputs": [
    {
     "data": {
      "image/png": "[encoded data removed]",
      "text/latex": [
       "$\\displaystyle R_{m} \\omega_\\% - 3 R_{m} p - 3 R_{sys} \\omega_\\% p^{2} + R_{sys} p^{3}$"
      ],
      "text/plain": [
       "                                           2          3\n",
       "Rₘ⋅\\omega_\\% - 3⋅Rₘ⋅p - 3⋅R_sys⋅\\omega_\\%⋅p  + R_sys⋅p "
      ]
     },
     "metadata": {},
     "output_type": "display_data"
    }
   ],
   "source": [
    "ex=factor(ex)\n",
    "display(ex)"
   ]
  },
  {
   "cell_type": "markdown",
   "metadata": {},
   "source": [
    "Before substitation the stationary points, let's rewrite them in terms of a new variable $x$ defined to the radical parts"
   ]
  },
  {
   "cell_type": "code",
   "execution_count": 98,
   "metadata": {
    "jupyter": {
     "source_hidden": true
    }
   },
   "outputs": [
    {
     "data": {
      "image/png": "[encoded data removed]",
      "text/latex": [
       "$\\displaystyle x = \\frac{\\sqrt{R_{m} + R_{sys} \\omega_\\%^{2}}}{\\sqrt{R_{sys}}}$"
      ],
      "text/plain": [
       "       _______________________\n",
       "      ╱                     2 \n",
       "    ╲╱  Rₘ + R_sys⋅\\omega_\\%  \n",
       "x = ──────────────────────────\n",
       "              _______         \n",
       "            ╲╱ R_sys          "
      ]
     },
     "metadata": {},
     "output_type": "display_data"
    }
   ],
   "source": [
    "x=symbols(\"x\", real=True, Finite=True)\n",
    "x_def=Eq(x,sols.args[0].args[1])\n",
    "display(x_def)"
   ]
  },
  {
   "cell_type": "markdown",
   "metadata": {},
   "source": [
    "Note that solving for $\\omega_\\%^2$, gives"
   ]
  },
  {
   "cell_type": "code",
   "execution_count": 99,
   "metadata": {
    "jupyter": {
     "source_hidden": true
    }
   },
   "outputs": [
    {
     "data": {
      "image/png": "[encoded data removed]",
      "text/latex": [
       "$\\displaystyle \\omega_\\%^{2} = - \\frac{R_{m} - R_{sys} x^{2}}{R_{sys}}$"
      ],
      "text/plain": [
       "              ⎛            2⎞ \n",
       "         2   -⎝Rₘ - R_sys⋅x ⎠ \n",
       "\\omega_\\%  = ─────────────────\n",
       "                   R_sys      "
      ]
     },
     "metadata": {},
     "output_type": "display_data"
    }
   ],
   "source": [
    "w_f2_for_x = solveset(x_def, w_f**2).as_relational(w_f**2)\n",
    "display(w_f2_for_x)"
   ]
  },
  {
   "cell_type": "markdown",
   "metadata": {},
   "source": [
    "which will be useful later.\n",
    "\n",
    "For now, our stationary points become:"
   ]
  },
  {
   "cell_type": "code",
   "execution_count": 100,
   "metadata": {
    "jupyter": {
     "source_hidden": true
    }
   },
   "outputs": [
    {
     "data": {
      "image/png": "[encoded data removed]",
      "text/latex": [
       "$\\displaystyle \\left\\{\\omega_\\% - x, \\omega_\\% + x\\right\\}$"
      ],
      "text/plain": [
       "{\\omega_\\% - x, \\omega_\\% + x}"
      ]
     },
     "metadata": {},
     "output_type": "display_data"
    }
   ],
   "source": [
    "sols_w_x = sols.subs(x_def.rhs, x_def.lhs)\n",
    "display(sols_w_x)"
   ]
  },
  {
   "cell_type": "markdown",
   "metadata": {},
   "source": [
    "Substituting the stationary point that is above $\\omega_\\%$"
   ]
  },
  {
   "cell_type": "code",
   "execution_count": 101,
   "metadata": {
    "jupyter": {
     "source_hidden": true
    }
   },
   "outputs": [
    {
     "data": {
      "image/png": "[encoded data removed]",
      "text/latex": [
       "$\\displaystyle R_{m} \\omega_\\% - 3 R_{m} \\left(\\omega_\\% + x\\right) - 3 R_{sys} \\omega_\\% \\left(\\omega_\\% + x\\right)^{2} + R_{sys} \\left(\\omega_\\% + x\\right)^{3}$"
      ],
      "text/plain": [
       "                                                                       2      \n",
       "Rₘ⋅\\omega_\\% - 3⋅Rₘ⋅(\\omega_\\% + x) - 3⋅R_sys⋅\\omega_\\%⋅(\\omega_\\% + x)  + R_s\n",
       "\n",
       "                  3\n",
       "ys⋅(\\omega_\\% + x) "
      ]
     },
     "metadata": {},
     "output_type": "display_data"
    }
   ],
   "source": [
    "ex0=together(ex.subs(p,sols_w_x.args[0]))\n",
    "display(ex0)"
   ]
  },
  {
   "cell_type": "markdown",
   "metadata": {},
   "source": [
    "Expanding and regrouping to get a polynomial"
   ]
  },
  {
   "cell_type": "code",
   "execution_count": 102,
   "metadata": {
    "jupyter": {
     "source_hidden": true
    }
   },
   "outputs": [
    {
     "data": {
      "image/png": "[encoded data removed]",
      "text/latex": [
       "$\\displaystyle - 2 R_{m} \\omega_\\% - 3 R_{m} x - 2 R_{sys} \\omega_\\%^{3} - 3 R_{sys} \\omega_\\%^{2} x + R_{sys} x^{3}$"
      ],
      "text/plain": [
       "                                            3                    2            \n",
       "-2⋅Rₘ⋅\\omega_\\% - 3⋅Rₘ⋅x - 2⋅R_sys⋅\\omega_\\%  - 3⋅R_sys⋅\\omega_\\% ⋅x + R_sys⋅x\n",
       "\n",
       "3\n",
       " "
      ]
     },
     "metadata": {},
     "output_type": "display_data"
    }
   ],
   "source": [
    "ex0=factor(ex0)\n",
    "display(ex0)"
   ]
  },
  {
   "cell_type": "markdown",
   "metadata": {},
   "source": [
    "Substituting our formula for $\\omega_\\%^2$"
   ]
  },
  {
   "cell_type": "code",
   "execution_count": 103,
   "metadata": {
    "jupyter": {
     "source_hidden": true
    }
   },
   "outputs": [
    {
     "data": {
      "image/png": "[encoded data removed]",
      "text/latex": [
       "$\\displaystyle - 2 R_{m} \\omega_\\% - 3 R_{m} x - 2 R_{sys} \\omega_\\%^{3} + R_{sys} x^{3} + 3 x \\left(R_{m} - R_{sys} x^{2}\\right)$"
      ],
      "text/plain": [
       "                                            3          3       ⎛            2⎞\n",
       "-2⋅Rₘ⋅\\omega_\\% - 3⋅Rₘ⋅x - 2⋅R_sys⋅\\omega_\\%  + R_sys⋅x  + 3⋅x⋅⎝Rₘ - R_sys⋅x ⎠"
      ]
     },
     "metadata": {},
     "output_type": "display_data"
    }
   ],
   "source": [
    "ex0=ex0.subs(w_f2_for_x.lhs,w_f2_for_x.rhs)\n",
    "display(ex0)"
   ]
  },
  {
   "cell_type": "markdown",
   "metadata": {},
   "source": [
    "Simplifying gives"
   ]
  },
  {
   "cell_type": "code",
   "execution_count": 104,
   "metadata": {
    "jupyter": {
     "source_hidden": true
    }
   },
   "outputs": [
    {
     "data": {
      "image/png": "[encoded data removed]",
      "text/latex": [
       "$\\displaystyle - 2 \\left(R_{m} \\omega_\\% + R_{sys} \\omega_\\%^{3} + R_{sys} x^{3}\\right)$"
      ],
      "text/plain": [
       "   ⎛                              3          3⎞\n",
       "-2⋅⎝Rₘ⋅\\omega_\\% + R_sys⋅\\omega_\\%  + R_sys⋅x ⎠"
      ]
     },
     "metadata": {},
     "output_type": "display_data"
    }
   ],
   "source": [
    "ex0=factor(ex0)\n",
    "display(ex0)"
   ]
  },
  {
   "cell_type": "markdown",
   "metadata": {},
   "source": [
    "Since $\\omega_\\%$ is nonnegative and $x$, $R_m$, and $R_{sys}$ are all positive, the above expression must be negative. Therefore the stationary point that is above $\\omega_\\%$ must be a maximum."
   ]
  },
  {
   "cell_type": "code",
   "execution_count": 105,
   "metadata": {
    "jupyter": {
     "source_hidden": true
    }
   },
   "outputs": [
    {
     "data": {
      "image/png": "[encoded data removed]",
      "text/latex": [
       "$\\displaystyle R_{m} \\omega_\\% - 3 R_{m} \\left(\\omega_\\% - x\\right) - 3 R_{sys} \\omega_\\% \\left(\\omega_\\% - x\\right)^{2} + R_{sys} \\left(\\omega_\\% - x\\right)^{3}$"
      ],
      "text/plain": [
       "                                                                       2      \n",
       "Rₘ⋅\\omega_\\% - 3⋅Rₘ⋅(\\omega_\\% - x) - 3⋅R_sys⋅\\omega_\\%⋅(\\omega_\\% - x)  + R_s\n",
       "\n",
       "                  3\n",
       "ys⋅(\\omega_\\% - x) "
      ]
     },
     "metadata": {},
     "output_type": "display_data"
    }
   ],
   "source": [
    "ex1=together(ex.subs(p,sols_w_x.args[1]))\n",
    "display(ex1)"
   ]
  },
  {
   "cell_type": "markdown",
   "metadata": {},
   "source": [
    "Expanding and regrouping to get a polynomial"
   ]
  },
  {
   "cell_type": "code",
   "execution_count": 106,
   "metadata": {
    "jupyter": {
     "source_hidden": true
    }
   },
   "outputs": [
    {
     "data": {
      "image/png": "[encoded data removed]",
      "text/latex": [
       "$\\displaystyle - 2 R_{m} \\omega_\\% + 3 R_{m} x - 2 R_{sys} \\omega_\\%^{3} + 3 R_{sys} \\omega_\\%^{2} x - R_{sys} x^{3}$"
      ],
      "text/plain": [
       "                                            3                    2            \n",
       "-2⋅Rₘ⋅\\omega_\\% + 3⋅Rₘ⋅x - 2⋅R_sys⋅\\omega_\\%  + 3⋅R_sys⋅\\omega_\\% ⋅x - R_sys⋅x\n",
       "\n",
       "3\n",
       " "
      ]
     },
     "metadata": {},
     "output_type": "display_data"
    }
   ],
   "source": [
    "ex1=factor(ex1)\n",
    "display(ex1)"
   ]
  },
  {
   "cell_type": "markdown",
   "metadata": {},
   "source": [
    "Substituting our formula for $\\omega_\\%^2$"
   ]
  },
  {
   "cell_type": "code",
   "execution_count": 107,
   "metadata": {
    "jupyter": {
     "source_hidden": true
    }
   },
   "outputs": [
    {
     "data": {
      "image/png": "[encoded data removed]",
      "text/latex": [
       "$\\displaystyle - 2 R_{m} \\omega_\\% + 3 R_{m} x - R_{sys} x^{3} + 2 \\omega_\\% \\left(R_{m} - R_{sys} x^{2}\\right) - 3 x \\left(R_{m} - R_{sys} x^{2}\\right)$"
      ],
      "text/plain": [
       "                                  3               ⎛            2⎞       ⎛     \n",
       "-2⋅Rₘ⋅\\omega_\\% + 3⋅Rₘ⋅x - R_sys⋅x  + 2⋅\\omega_\\%⋅⎝Rₘ - R_sys⋅x ⎠ - 3⋅x⋅⎝Rₘ - \n",
       "\n",
       "       2⎞\n",
       "R_sys⋅x ⎠"
      ]
     },
     "metadata": {},
     "output_type": "display_data"
    }
   ],
   "source": [
    "ex1=ex1.subs(w_f2_for_x.lhs,w_f2_for_x.rhs)\n",
    "ex1=ex1.subs(w_f**3,w_f*w_f2_for_x.rhs)\n",
    "display(ex1)"
   ]
  },
  {
   "cell_type": "markdown",
   "metadata": {},
   "source": [
    "Simplifying gives"
   ]
  },
  {
   "cell_type": "code",
   "execution_count": 108,
   "metadata": {
    "jupyter": {
     "source_hidden": true
    }
   },
   "outputs": [
    {
     "data": {
      "image/png": "[encoded data removed]",
      "text/latex": [
       "$\\displaystyle 2 R_{sys} x^{2} \\left(- \\omega_\\% + x\\right)$"
      ],
      "text/plain": [
       "         2                 \n",
       "2⋅R_sys⋅x ⋅(-\\omega_\\% + x)"
      ]
     },
     "metadata": {},
     "output_type": "display_data"
    }
   ],
   "source": [
    "ex1=factor(ex1)\n",
    "display(ex1)"
   ]
  },
  {
   "cell_type": "markdown",
   "metadata": {},
   "source": [
    "Dividing by $2R_{sys}x^2$ will not affect the sign"
   ]
  },
  {
   "cell_type": "code",
   "execution_count": 109,
   "metadata": {
    "jupyter": {
     "source_hidden": true
    }
   },
   "outputs": [
    {
     "data": {
      "image/png": "[encoded data removed]",
      "text/latex": [
       "$\\displaystyle - \\omega_\\% + x$"
      ],
      "text/plain": [
       "-\\omega_\\% + x"
      ]
     },
     "metadata": {},
     "output_type": "display_data"
    }
   ],
   "source": [
    "ex1=ex1/(2*R_sys*x**2)\n",
    "display(ex1)"
   ]
  },
  {
   "cell_type": "markdown",
   "metadata": {},
   "source": [
    "Which is positive if and only if $x>\\omega_\\%$. If we square both sides of our definition of $x$, we get"
   ]
  },
  {
   "cell_type": "code",
   "execution_count": 110,
   "metadata": {
    "jupyter": {
     "source_hidden": true
    }
   },
   "outputs": [
    {
     "data": {
      "image/png": "[encoded data removed]",
      "text/latex": [
       "$\\displaystyle x^{2} = \\frac{R_{m}}{R_{sys}} + \\omega_\\%^{2}$"
      ],
      "text/plain": [
       " 2     Rₘ             2\n",
       "x  = ───── + \\omega_\\% \n",
       "     R_sys             "
      ]
     },
     "metadata": {},
     "output_type": "display_data"
    }
   ],
   "source": [
    "x_def2 = Eq(x_def.lhs**2,apart(x_def.rhs**2,R_sys))\n",
    "display(x_def2)"
   ]
  },
  {
   "cell_type": "markdown",
   "metadata": {},
   "source": [
    "$\\omega_\\%^2$ is nonnegative and $R_m$, and $R_{sys}$ are both positive. Therefore $x^2>\\omega_\\%^2$. Since both $x$ and $\\omega_\\%$ are nonnegative, that means $x>\\omega\\%$. Therefore the second derivative of $I_m$ at the stationary point that is below $\\omega_\\%$ is positive and that point must be a minimum."
   ]
  }
 ],
 "metadata": {
  "kernelspec": {
   "display_name": "Python 3",
   "language": "python",
   "name": "python3"
  },
  "language_info": {
   "codemirror_mode": {
    "name": "ipython",
    "version": 3
   },
   "file_extension": ".py",
   "mimetype": "text/x-python",
   "name": "python",
   "nbconvert_exporter": "python",
   "pygments_lexer": "ipython3",
   "version": "3.7.3"
  }
 },
 "nbformat": 4,
 "nbformat_minor": 4
}
