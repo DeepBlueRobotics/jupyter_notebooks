{
 "cells": [
  {
   "cell_type": "code",
   "execution_count": 1,
   "metadata": {
    "tags": [
     "remove-input"
    ]
   },
   "outputs": [],
   "source": [
    "from sympy import *\n",
    "init_printing(order='none')\n",
    "# Givens\n",
    "r_w = symbols(\"r_w\", real=True, finite=True, positive=True)\n",
    "r_p = symbols(\"r_p\", real=True, finite=True, positive=True)\n",
    "I_p = symbols(\"I_p\", real=True, finite=True, positive=True)\n",
    "I_w = symbols(\"I_w\", real=True, finite=True, positive=True)\n",
    "m_p = symbols(\"m_p\", real=True, finite=True, positive=True)\n",
    "v_p = symbols(\"v_p\", real=True, finite=True, positive=True)\n",
    "\n",
    "# Unknowns\n",
    "omega_wi = symbols(\"\\\\omega_{wi}\", real=True, finite=True, positive=True)\n",
    "omega_wf = symbols(\"\\\\omega_{wf}\", real=True, finite=True, positive=True)\n",
    "omega_p = symbols(\"\\\\omega_p\", real=True, finite=True, positive=True)\n",
    "J_w = symbols(\"J_w\", real=True, finite=True, positive=True)\n",
    "J_h = symbols(\"J_h\", real=True, finite=True, positive=True)\n",
    "\n",
    "from IPython.display import Markdown\n",
    "\n",
    "def display_eq(eq, label, uneval_exprs=[]):\n",
    "    for e in uneval_exprs:\n",
    "        eq = eq.subs(e, UnevaluatedExpr(e))\n",
    "    return display(Markdown(f'<div style=\"text-align: center\">\\n\\n#### {label}\\n\\n</div>\\n\\n' + '\\\\begin{equation}\\n' + f'{latex(eq)}' + ' \\\\end{equation}'))"
   ]
  },
  {
   "attachments": {},
   "cell_type": "markdown",
   "metadata": {},
   "source": [
    "# Flywheel Shooter Analysis\n",
    "\n",
    "Dean Brettle  \n",
    "Mentor  \n",
    "Carlmont Robotics, FRC Team 199, Deep Blue  \n",
    "dean.brettle@carlmontrobotics.org\n",
    "\n",
    "## Abstract\n",
    "\n",
    "We describe a new mathematical model for the physics of a hooded flywheel shooter, derive equations for the initial wheel velocity and the ratio of the initial wheel velocity to the final wheel velocity, and compare our analysis and results to previous work. Our analysis predictis that the wheel speed lost during a shot is half of what is predicted by previous work.\n",
    "\n",
    "## Preface\n",
    "\n",
    "This is a Jupyter notebook or the output of one. The source code is currently available on GitHub at: https://github.com/DeepBlueRobotics/jupyter_notebooks/blob/master/FlywheelShooter.ipynb\n",
    "\n",
    "You may also be able to experiment with the code online at: https://mybinder.org/v2/gh/DeepBlueRobotics/jupyter_notebooks/master?labpath=FlywheelShooter.ipynb\n",
    "\n",
    "To avoid unnecessary conversion factors, all quantities are assumed to be in [SI units](https://en.wikipedia.org/wiki/International_System_of_Units). In particular, note that rotational velocities are in **radians/second, _not_ revolutions per minute (RPM)**.\n",
    "\n",
    "## Introduction\n",
    "\n",
    "Consider the following figures illustrating a projectile of radius $r_p$, mass $m_p$, and moment of inertia $I_p$ going through a shooter where the wheel has radius $r_w$, mass $m_w$, and moment of inertia $I_w$."
   ]
  },
  {
   "cell_type": "code",
   "execution_count": 262,
   "metadata": {},
   "outputs": [
    {
     "data": {
      "image/png": "[encoded data removed]",
      "text/plain": [
       "<Figure size 500x500 with 1 Axes>"
      ]
     },
     "metadata": {},
     "output_type": "display_data"
    }
   ],
   "source": [
    "from matplotlib.patches import Circle, Wedge, Polygon, RegularPolygon, Rectangle, FancyArrowPatch\n",
    "from matplotlib.transforms import Affine2D\n",
    "import matplotlib.pyplot as plt\n",
    "import numpy\n",
    "import math\n",
    "\n",
    "def add_labeled_circle(ax, x, y, radius, width, color, arrow_width, label, radius_label, speed_label, label_size, direction=\"cw\"):\n",
    "    ax.add_patch(Wedge((x, y), radius, 0, 360, width=width, color=color))\n",
    "    ax.text(x, y, label, ha=\"center\", va=\"bottom\", color=color, backgroundcolor=\"w\", size=label_size)\n",
    "    if (speed_label != None):\n",
    "        ax.add_patch(RegularPolygon((x-radius+width/2, y), 3, radius=2*width, orientation=(math.pi if direction == \"cw\" else 0), color=color))\n",
    "        ax.text(x-radius+width/2, y, speed_label, ha=\"center\", va=\"center\", color=\"w\", size=label_size)\n",
    "\n",
    "    # Radius arrows and label\n",
    "    ax.annotate(\"\",\n",
    "                xy=(x, y), xycoords='data',\n",
    "                xytext=(x, y-radius/2), textcoords='data',\n",
    "                size=label_size, va=\"center\", ha=\"center\", color=color,\n",
    "                arrowprops=dict(color=color,\n",
    "                                fc=\"w\",\n",
    "                                width=arrow_width),\n",
    "    )\n",
    "    ax.annotate(\"\",\n",
    "                xy=(x, y-radius), xycoords='data',\n",
    "                xytext=(x, y-radius/2), textcoords='data',\n",
    "                size=label_size, va=\"center\", ha=\"center\", color=color,\n",
    "                arrowprops=dict(color=color,\n",
    "                                fc=\"w\",\n",
    "                                width=arrow_width),\n",
    "    )\n",
    "    ax.text(x, y-radius/2, radius_label, ha=\"center\", va=\"center\", color=color, backgroundcolor=\"w\", size=label_size)\n",
    "\n",
    "\n",
    "\n",
    "def display_shooter(title, omega_w_label, omega_p_label, v_p_label, show_impulses=False, theta=math.pi/8):\n",
    "    fig, ax = plt.subplots(figsize=(10, 10), dpi=50)\n",
    "\n",
    "    r_w = 0.2\n",
    "    r_p = 0.3\n",
    "    r_h = r_w+2*r_p\n",
    "\n",
    "    p_center = ((r_w+r_p)*math.cos(theta), (r_w+r_p)*math.sin(theta))\n",
    "    # if theta < 0:\n",
    "    #     p_center = (r_w+r_p, -r_p/3)\n",
    "    # elif theta > math.pi/4:\n",
    "    #     p_center = ((r_w+r_p)*math.cos(math.pi/4)-r_p/3, (r_w+r_p)*math.sin(math.pi/4)+r_p/3)\n",
    "\n",
    "    width = 0.03\n",
    "\n",
    "    w_color = \"blue\"\n",
    "    p_color = \"green\"\n",
    "    h_color = \"red\"\n",
    "\n",
    "    label_size = 15\n",
    "    arrow_length = 0.35\n",
    "    arrow_width = 4\n",
    "\n",
    "    bounds = [-r_w-3*width, r_w+2*r_p+2*width, -r_p-5*width, r_w+2*r_p+2*width]\n",
    "\n",
    "    # Hood\n",
    "    ax.text((r_h+width)*math.cos(math.pi/6), (r_h+width)*math.sin(math.pi/6), r'Hood', ha=\"left\", va=\"bottom\", color=h_color, size=label_size)\n",
    "    ax.add_patch(Wedge((0, 0), r_h, 0, 45, width=-width, color=h_color, linewidth=0))\n",
    "    ax.add_patch(Rectangle((r_h, 0), width, -r_p, color=h_color, linewidth=0))\n",
    "    \n",
    "    # Wheel\n",
    "    add_labeled_circle(ax, 0, 0, r_w, width, w_color, arrow_width, \"Wheel\", \"$r_w$\", omega_w_label, label_size, direction=\"cw\")\n",
    "    \n",
    "    # Projectile\n",
    "    add_labeled_circle(ax, p_center[0], p_center[1], r_p, width, p_color, arrow_width, \"Projectile\", \"$r_p$\", omega_p_label, label_size, direction=\"ccw\")\n",
    "\n",
    "    if v_p_label != None:\n",
    "        # Projectile velocity\n",
    "        t = Affine2D().rotate(theta+math.pi/2).translate(p_center[0], p_center[1])\n",
    "        ax.add_patch(FancyArrowPatch(t.transform((r_p, 0)), t.transform((r_p+0.15, 0)),\n",
    "                                        color=p_color,\n",
    "                                        mutation_scale=75\n",
    "                                        ))\n",
    "        v_p_label_pos = t.transform((r_p+0.075, 0))\n",
    "        ax.text(v_p_label_pos[0], v_p_label_pos[1], v_p_label, ha=\"center\", va=\"center\", color=\"w\", size=label_size)\n",
    "    if show_impulses:\n",
    "        # Wheel->Projectile impulse\n",
    "        w_p_contact = ((r_w)*math.cos(theta), (r_w)*math.sin(theta))\n",
    "        ax.annotate(\"$J_w$\",\n",
    "                    xy=w_p_contact, xycoords='data',\n",
    "                    xytext=(w_p_contact[0]+arrow_length*math.cos(theta-math.pi/2), w_p_contact[1]+arrow_length*math.sin(theta-math.pi/2)), textcoords='data',\n",
    "                    size=label_size, va=\"center\", ha=\"center\", color=p_color,\n",
    "                    arrowprops=dict(color=p_color,\n",
    "                                    fc=\"w\",\n",
    "                                    width=arrow_width),\n",
    "        )\n",
    "\n",
    "\n",
    "        # Hood->Projectile impulse\n",
    "        h_p_contact = ((r_w+2*r_p)*math.cos(theta), (r_w+2*r_p)*math.sin(theta))\n",
    "        ax.annotate(\"$J_h$\",\n",
    "                    xy=h_p_contact, xycoords='data',\n",
    "                    xytext=(h_p_contact[0]+arrow_length*math.cos(theta+math.pi/2), h_p_contact[1]+arrow_length*math.sin(theta+math.pi/2)), textcoords='data',\n",
    "                    size=label_size, va=\"center\", ha=\"center\", color=p_color,\n",
    "                    arrowprops=dict(color=p_color,\n",
    "                                    fc=\"w\",\n",
    "                                    width=arrow_width),\n",
    "        )\n",
    "\n",
    "        # Projectile->Wheel impulse\n",
    "        ax.annotate(\"$J_w$\",\n",
    "                    xy=w_p_contact, xycoords='data',\n",
    "                    xytext=(w_p_contact[0]+arrow_length*math.cos(theta+math.pi/2), w_p_contact[1]+arrow_length*math.sin(theta+math.pi/2)), textcoords='data',\n",
    "                    size=label_size, va=\"center\", ha=\"center\", color=w_color,\n",
    "                    arrowprops=dict(color=w_color,\n",
    "                                    fc=\"w\",\n",
    "                                    width=arrow_width),\n",
    "        )\n",
    "\n",
    "    \n",
    "    ax.set_title(title)\n",
    "\n",
    "    ax.set_xticks([])\n",
    "    ax.set_yticks([])\n",
    "    ax.set_aspect('equal')\n",
    "    ax.axis(bounds)\n",
    "\n",
    "    plt.show()\n",
    "\n",
    "display_shooter('Projectile Entering Shooter', r'$\\omega_{wi}$', None, None, theta=0)\n"
   ]
  },
  {
   "attachments": {},
   "cell_type": "markdown",
   "metadata": {},
   "source": [
    "When the projectile enters the shooter, the shooter wheel has an initial velocity of $\\omega_{wi}$ and the projectile does not have any initial rotational or linear velocity."
   ]
  },
  {
   "cell_type": "code",
   "execution_count": 263,
   "metadata": {},
   "outputs": [
    {
     "data": {
      "image/png": "[encoded data removed]",
      "text/plain": [
       "<Figure size 500x500 with 1 Axes>"
      ]
     },
     "metadata": {},
     "output_type": "display_data"
    }
   ],
   "source": [
    "display_shooter('Projectile Inside Shooter', r'', r'', r'', show_impulses=True, theta=math.pi/8)"
   ]
  },
  {
   "attachments": {},
   "cell_type": "markdown",
   "metadata": {},
   "source": [
    "While the projectile is in the shooter:\n",
    "\n",
    "1. The contact between the surface of the shooter wheel and the surface of the projectile produces an impulse on each of them (in opposite directions) of magnitude $J_w$.\n",
    "2. The contact between the hood and the surface of the projectile produces an additional impulse on the projectile, on the opposite side and in the opposite direction, of magnitude $J_h$.\n",
    "3. The net effect of the two impulses on the projectile is to increase its linear and rotational velocity.\n",
    "4. The effect of the impulse on the shooter wheel is to decrease its rotational velocity."
   ]
  },
  {
   "cell_type": "code",
   "execution_count": 264,
   "metadata": {},
   "outputs": [
    {
     "data": {
      "image/png": "[encoded data removed]",
      "text/plain": [
       "<Figure size 500x500 with 1 Axes>"
      ]
     },
     "metadata": {},
     "output_type": "display_data"
    }
   ],
   "source": [
    "display_shooter('Projectile Exiting Shooter', r'$\\omega_{wf}$', r'$\\omega_p$', r'$v_p$', theta=math.pi/4)"
   ]
  },
  {
   "attachments": {},
   "cell_type": "markdown",
   "metadata": {},
   "source": [
    "When the projectile exits the shooter it has a final linear velocity $v_p$ and rotational velocity $\\omega_p$ and the shooter wheel has a final rotation velocity $\\omega_{wf}$."
   ]
  },
  {
   "attachments": {},
   "cell_type": "markdown",
   "metadata": {},
   "source": [
    "\n",
    "\n",
    "## Assumptions\n",
    "\n",
    "1. The projectile is rolling against the hood when it exits the shooter.\n",
    "2. The projectile is rolling against the shooter wheel when it exits the shooter.\n",
    "3. There are no other torques or forces acting on the projectile and no other torques acting on the shooter wheel. The projectile spends so little time in the shooter that any attempt to compensate for the decrease in shooter wheel speed will not occur until after the projectile has exited.\n",
    "4. The mass and moment of inertia of the robot is high enough that the impulses meaningfully changes the linear or rotational velocity of the robot. As a result the shooter wheel axle and the contact point with the hood are assumed to be fixed.\n",
    "\n",
    "## The problem\n",
    "\n",
    "Given $r_p$, $I_p$, $r_w$, $I_w$, and the desired linear velocity of the projectile $v_p$, find the shooter wheel's initial velocity $\\omega_{wi}$. It will also be convenient to determine know the wheel's final rotational velocity $\\omega_{wf}$, and the projectile's rotational velocity $\\omega_p$.\n",
    "\n",
    "To do this it will be useful to introduce 2 additional unknowns, the magnitudes of the impulses on the wheel side and the hood side of the projectile, $J_w$ and $J_h$ respectively.\n",
    "\n",
    "## What physics tells us\n",
    "\n",
    "An object's linear momentum is equal to its mass times its linear velocity.\n",
    "\n",
    "An impulse causes a change in an object's linear momentum equal to the magnitude of the impulse.\n",
    "\n",
    "So:"
   ]
  },
  {
   "cell_type": "code",
   "execution_count": 2,
   "metadata": {},
   "outputs": [
    {
     "data": {
      "text/markdown": [
       "<div style=\"text-align: center\">\n",
       "\n",
       "#### Equation 1\n",
       "\n",
       "</div>\n",
       "\n",
       "\\begin{equation}\n",
       "m_{p} v_{p} = J_{w} - J_{h} \\end{equation}"
      ],
      "text/plain": [
       "<IPython.core.display.Markdown object>"
      ]
     },
     "metadata": {},
     "output_type": "display_data"
    }
   ],
   "source": [
    "eq1=Eq(m_p*v_p, J_w-J_h)\n",
    "display_eq(eq1, 'Equation 1')"
   ]
  },
  {
   "cell_type": "markdown",
   "metadata": {},
   "source": [
    "An object's angular momentum is equal to its moment of inertial times its rotation velocity.\n",
    "\n",
    "An impulse whose direction is perpendicular to the line between an object's center of mass and the point of contact causes a change in the object's angular momentum (about it's center of mass) equal to the magnitude of the impulse times the distance to the point of contact.\n",
    "\n",
    "So:"
   ]
  },
  {
   "cell_type": "code",
   "execution_count": 3,
   "metadata": {},
   "outputs": [
    {
     "data": {
      "text/markdown": [
       "<div style=\"text-align: center\">\n",
       "\n",
       "#### Equation 2\n",
       "\n",
       "</div>\n",
       "\n",
       "\\begin{equation}\n",
       "I_{p} \\omega_{p} = J_{h} r_{p} + J_{w} r_{p} \\end{equation}"
      ],
      "text/plain": [
       "<IPython.core.display.Markdown object>"
      ]
     },
     "metadata": {},
     "output_type": "display_data"
    },
    {
     "data": {
      "text/markdown": [
       "<div style=\"text-align: center\">\n",
       "\n",
       "#### Equation 3\n",
       "\n",
       "</div>\n",
       "\n",
       "\\begin{equation}\n",
       "I_{w} \\omega_{wi} - I_{w} \\omega_{wf} = J_{w} r_{w} \\end{equation}"
      ],
      "text/plain": [
       "<IPython.core.display.Markdown object>"
      ]
     },
     "metadata": {},
     "output_type": "display_data"
    }
   ],
   "source": [
    "eq2=Eq(I_p*omega_p, J_h*r_p+J_w*r_p)\n",
    "eq3=Eq(I_w*omega_wi-I_w*omega_wf, J_w*r_w)\n",
    "display_eq(eq2, 'Equation 2')\n",
    "display_eq(eq3, 'Equation 3')"
   ]
  },
  {
   "cell_type": "markdown",
   "metadata": {},
   "source": [
    "Since we are assuming that when the projectile exits the shooter it is rolling against the hood, it's linear velocity will be half of the linear velocity of the point opposite the hood. So projectile's linear velocity will be half of the linear velocity of the point where the projectile is contacting the wheel. Since the projectile is also rolling against the wheel, the linear velocity of that point is the same as the linear velocity of a point on the surface of the wheel. The linear velocity of a point on a rotating object is the rotational velocity times the distance from the center of rotation to the point."
   ]
  },
  {
   "cell_type": "code",
   "execution_count": 4,
   "metadata": {},
   "outputs": [
    {
     "data": {
      "text/markdown": [
       "<div style=\"text-align: center\">\n",
       "\n",
       "#### Equation 4\n",
       "\n",
       "</div>\n",
       "\n",
       "\\begin{equation}\n",
       "v_{p} = \\frac{\\omega_{wf} r_{w}}{2} \\end{equation}"
      ],
      "text/plain": [
       "<IPython.core.display.Markdown object>"
      ]
     },
     "metadata": {},
     "output_type": "display_data"
    }
   ],
   "source": [
    "eq4=Eq(v_p,(omega_wf*r_w)/2)\n",
    "display_eq(eq4, 'Equation 4')"
   ]
  },
  {
   "cell_type": "markdown",
   "metadata": {},
   "source": [
    "Since the projectile is rolling against the hood, it's linear velocity must also be the same as the linear velocity of a point on the surface of the projectile in when viewed from a frame of reference that is moving at the same linear velocity as the projectile."
   ]
  },
  {
   "cell_type": "code",
   "execution_count": 5,
   "metadata": {},
   "outputs": [
    {
     "data": {
      "text/markdown": [
       "<div style=\"text-align: center\">\n",
       "\n",
       "#### Equation 5\n",
       "\n",
       "</div>\n",
       "\n",
       "\\begin{equation}\n",
       "v_{p} = \\omega_{p} r_{p} \\end{equation}"
      ],
      "text/plain": [
       "<IPython.core.display.Markdown object>"
      ]
     },
     "metadata": {},
     "output_type": "display_data"
    }
   ],
   "source": [
    "eq5=Eq(v_p,omega_p*r_p)\n",
    "display_eq(eq5, 'Equation 5')"
   ]
  },
  {
   "attachments": {},
   "cell_type": "markdown",
   "metadata": {},
   "source": [
    "## Solving the system of equations\n",
    "\n",
    "We now have 5 equations and 5 unknowns. We can solve the system using a computer algebra system (as is done in this Jupyter notebook) or solve it manually as follows."
   ]
  },
  {
   "cell_type": "code",
   "execution_count": 6,
   "metadata": {},
   "outputs": [],
   "source": [
    "sols = solve([eq1, eq2, eq3, eq4, eq5], [omega_wi, omega_p, omega_wf, J_w, J_h], dict=True)[0]\n"
   ]
  },
  {
   "attachments": {},
   "cell_type": "markdown",
   "metadata": {},
   "source": [
    "Rearrange [Equation 4](#Equation-4) to get the wheel's final rotational velocity, $\\omega_{wf}$, in terms of $v_p$ and $r_w$:"
   ]
  },
  {
   "cell_type": "code",
   "execution_count": 7,
   "metadata": {},
   "outputs": [
    {
     "data": {
      "text/markdown": [
       "<div style=\"text-align: center\">\n",
       "\n",
       "#### Final wheel rotational velocity\n",
       "\n",
       "</div>\n",
       "\n",
       "\\begin{equation}\n",
       "\\omega_{wf} = \\frac{2 v_{p}}{r_{w}} \\end{equation}"
      ],
      "text/plain": [
       "<IPython.core.display.Markdown object>"
      ]
     },
     "metadata": {},
     "output_type": "display_data"
    }
   ],
   "source": [
    "eq_omega_wf = Eq(omega_wf, sols[omega_wf])\n",
    "display_eq(eq_omega_wf, \"Final wheel rotational velocity\")"
   ]
  },
  {
   "attachments": {},
   "cell_type": "markdown",
   "metadata": {},
   "source": [
    "Rearrange [Equation 5](#Equation-5) to get the projectile's rotational velocity, $\\omega_p$, in terms of $v_p$ and $r_p$:"
   ]
  },
  {
   "cell_type": "code",
   "execution_count": 8,
   "metadata": {},
   "outputs": [
    {
     "data": {
      "text/markdown": [
       "<div style=\"text-align: center\">\n",
       "\n",
       "#### Projectile rotational velocity\n",
       "\n",
       "</div>\n",
       "\n",
       "\\begin{equation}\n",
       "\\omega_{p} = \\frac{v_{p}}{r_{p}} \\end{equation}"
      ],
      "text/plain": [
       "<IPython.core.display.Markdown object>"
      ]
     },
     "metadata": {},
     "output_type": "display_data"
    }
   ],
   "source": [
    "display_eq(Eq(omega_p, sols[omega_p]), \"Projectile rotational velocity\")"
   ]
  },
  {
   "attachments": {},
   "cell_type": "markdown",
   "metadata": {},
   "source": [
    "\n",
    "Substitute $\\omega_p$ into [Equation 2](#Equation-2), divide both sides by $r_p$ and add the resulting equation to [Equation 1](#Equation-1) to get an equation that can be solved for $J_w$:"
   ]
  },
  {
   "cell_type": "code",
   "execution_count": 9,
   "metadata": {},
   "outputs": [
    {
     "data": {
      "text/markdown": [
       "<div style=\"text-align: center\">\n",
       "\n",
       "#### Impulse from the wheel\n",
       "\n",
       "</div>\n",
       "\n",
       "\\begin{equation}\n",
       "J_{w} = \\frac{v_{p} \\left(I_{p} + m_{p} r_{p}^{2}\\right)}{2 r_{p}^{2}} \\end{equation}"
      ],
      "text/plain": [
       "<IPython.core.display.Markdown object>"
      ]
     },
     "metadata": {},
     "output_type": "display_data"
    }
   ],
   "source": [
    "display_eq(Eq(J_w, factor(sols[J_w])), \"Impulse from the wheel\")"
   ]
  },
  {
   "attachments": {},
   "cell_type": "markdown",
   "metadata": {},
   "source": [
    "Substitute the above formulas for $J_w$ and $\\omega_{wf}$ into [Equation 3](#Equation-3) and solve for the wheel's initial rotational velocity, $\\omega_{wi}$:"
   ]
  },
  {
   "cell_type": "code",
   "execution_count": 10,
   "metadata": {},
   "outputs": [
    {
     "data": {
      "text/markdown": [
       "<div style=\"text-align: center\">\n",
       "\n",
       "#### Initial wheel rotational velocity\n",
       "\n",
       "</div>\n",
       "\n",
       "\\begin{equation}\n",
       "\\omega_{wi} = \\frac{v_{p} \\left(I_{p} r_{w}^{2} + 4 I_{w} r_{p}^{2} + m_{p} r_{p}^{2} r_{w}^{2}\\right)}{2 I_{w} r_{p}^{2} r_{w}} \\end{equation}"
      ],
      "text/plain": [
       "<IPython.core.display.Markdown object>"
      ]
     },
     "metadata": {},
     "output_type": "display_data"
    }
   ],
   "source": [
    "eq_omega_wi = Eq(omega_wi, separatevars(sols[omega_wi]))\n",
    "display_eq(eq_omega_wi, \"Initial wheel rotational velocity\")"
   ]
  },
  {
   "attachments": {},
   "cell_type": "markdown",
   "metadata": {},
   "source": [
    "Note that the initial wheel rotational velocity is the projectile velocity multiplied by a constant factor that depends on the physical properties of the wheel and the projectile.\n",
    "\n",
    "We can also compute the ratio of the wheel's initial and final rotational velocities. Let's call that the wheel velocity ratio.\n"
   ]
  },
  {
   "cell_type": "code",
   "execution_count": 11,
   "metadata": {},
   "outputs": [
    {
     "data": {
      "text/markdown": [
       "<div style=\"text-align: center\">\n",
       "\n",
       "#### Wheel velocity ratio\n",
       "\n",
       "</div>\n",
       "\n",
       "\\begin{equation}\n",
       "\\frac{\\omega_{wi}}{\\omega_{wf}} \\end{equation}"
      ],
      "text/plain": [
       "<IPython.core.display.Markdown object>"
      ]
     },
     "metadata": {},
     "output_type": "display_data"
    }
   ],
   "source": [
    "wheel_velocity_ratio = omega_wi / omega_wf\n",
    "display_eq(wheel_velocity_ratio, \"Wheel velocity ratio\")"
   ]
  },
  {
   "attachments": {},
   "cell_type": "markdown",
   "metadata": {},
   "source": [
    "Substituting the formula for initial and final wheel velocity gives:\n"
   ]
  },
  {
   "cell_type": "code",
   "execution_count": 12,
   "metadata": {},
   "outputs": [
    {
     "data": {
      "text/markdown": [
       "<div style=\"text-align: center\">\n",
       "\n",
       "#### Value\n",
       "\n",
       "</div>\n",
       "\n",
       "\\begin{equation}\n",
       "1 + \\left(m_{p} + \\frac{I_{p}}{r_{p}^{2}}\\right) \\frac{r_{w}^{2}}{4 I_{w}} \\end{equation}"
      ],
      "text/plain": [
       "<IPython.core.display.Markdown object>"
      ]
     },
     "metadata": {},
     "output_type": "display_data"
    },
    {
     "data": {
      "text/markdown": [
       "<div style=\"text-align: center\">\n",
       "\n",
       "#### Wheel velocity ratio\n",
       "\n",
       "</div>\n",
       "\n",
       "\\begin{equation}\n",
       "\\frac{\\omega_{wi}}{\\omega_{wf}} = 1 + \\left(m_{p} + \\frac{I_{p}}{r_{p}^{2}}\\right) \\frac{r_{w}^{2}}{4 I_{w}} \\end{equation}"
      ],
      "text/plain": [
       "<IPython.core.display.Markdown object>"
      ]
     },
     "metadata": {},
     "output_type": "display_data"
    }
   ],
   "source": [
    "wheel_velocity_ratio_expanded = expand(sols[omega_wi]/sols[omega_wf]).collect(r_w**2/(4*I_w), exact=True)\n",
    "display_eq(wheel_velocity_ratio_expanded, \"Value\", [r_w**2/(4*I_w)])\n",
    "eq_wheel_velocity_ratio_expanded = Eq(wheel_velocity_ratio, wheel_velocity_ratio_expanded)\n",
    "display_eq(eq_wheel_velocity_ratio_expanded, \"Wheel velocity ratio\", [r_w**2/(4*I_w)])\n"
   ]
  },
  {
   "cell_type": "markdown",
   "metadata": {},
   "source": [
    "\n",
    "\n",
    "The moment of inertia of an axially symmetric object varies linearly with it's mass and the square of it's radius. So $I=k m r^2$ for some $k$ which will call the *shape factor* because it depends on the shape of the object. For a solid cylinder, $k=1/2$. For a solid sphere, $k=2/5$. For more examples, see [this list](https://en.wikipedia.org/wiki/List_of_moments_of_inertia).\n",
    "\n",
    "Let's define $I_w$, and $I_p$ as follows:"
   ]
  },
  {
   "cell_type": "code",
   "execution_count": 13,
   "metadata": {},
   "outputs": [
    {
     "data": {
      "text/markdown": [
       "<div style=\"text-align: center\">\n",
       "\n",
       "#### Equation 6\n",
       "\n",
       "</div>\n",
       "\n",
       "\\begin{equation}\n",
       "I_{p} = k_{p} m_{p} r_{p}^{2} \\end{equation}"
      ],
      "text/plain": [
       "<IPython.core.display.Markdown object>"
      ]
     },
     "metadata": {},
     "output_type": "display_data"
    },
    {
     "data": {
      "text/markdown": [
       "<div style=\"text-align: center\">\n",
       "\n",
       "#### Equation 7\n",
       "\n",
       "</div>\n",
       "\n",
       "\\begin{equation}\n",
       "I_{w} = k_{w} m_{w} r_{w}^{2} \\end{equation}"
      ],
      "text/plain": [
       "<IPython.core.display.Markdown object>"
      ]
     },
     "metadata": {},
     "output_type": "display_data"
    }
   ],
   "source": [
    "k_p = symbols(\"k_p\", real=True, finite=True, positive=True)\n",
    "m_p = symbols(\"m_p\", real=True, finite=True, positive=True)\n",
    "eq6 = Eq(I_p, k_p*m_p*r_p**2)\n",
    "display_eq(eq6, \"Equation 6\")\n",
    "\n",
    "k_w = symbols(\"k_w\", real=True, finite=True, positive=True)\n",
    "m_w = symbols(\"m_w\", real=True, finite=True, positive=True)\n",
    "eq7 = Eq(I_w, k_w*m_w*r_w**2)\n",
    "display_eq(eq7, \"Equation 7\")\n"
   ]
  },
  {
   "cell_type": "code",
   "execution_count": 14,
   "metadata": {},
   "outputs": [
    {
     "data": {
      "text/markdown": [
       "<div style=\"text-align: center\">\n",
       "\n",
       "#### Initial wheel rotational velocity with shape factors\n",
       "\n",
       "</div>\n",
       "\n",
       "\\begin{equation}\n",
       "\\omega_{wi} = \\left(1 + \\frac{1 + k_{p}}{4 k_{w}} \\frac{m_{p}}{m_{w}}\\right) \\frac{2 v_{p}}{r_{w}} \\end{equation}"
      ],
      "text/plain": [
       "<IPython.core.display.Markdown object>"
      ]
     },
     "metadata": {},
     "output_type": "display_data"
    },
    {
     "data": {
      "text/markdown": [
       "<div style=\"text-align: center\">\n",
       "\n",
       "#### Wheel velocity ratio with shape factors\n",
       "\n",
       "</div>\n",
       "\n",
       "\\begin{equation}\n",
       "\\frac{\\omega_{wi}}{\\omega_{wf}} = 1 + \\frac{1 + k_{p}}{4 k_{w}} \\frac{m_{p}}{m_{w}} \\end{equation}"
      ],
      "text/plain": [
       "<IPython.core.display.Markdown object>"
      ]
     },
     "metadata": {},
     "output_type": "display_data"
    }
   ],
   "source": [
    "wheel_velocity_ratio_k = solve([eq_wheel_velocity_ratio_expanded, eq6, eq7], [wheel_velocity_ratio, I_p, I_w, m_p, m_w], dict=True)[0][wheel_velocity_ratio]\n",
    "wheel_velocity_ratio_k = expand(wheel_velocity_ratio_k).collect(m_p/m_w*1/(4*k_w))\n",
    "eq_wheel_velocity_ratio_k = Eq(wheel_velocity_ratio, wheel_velocity_ratio_k)\n",
    "\n",
    "eq_omega_wi_k = Eq(omega_wi, sols[omega_wf]*wheel_velocity_ratio_k)\n",
    "\n",
    "display_eq(eq_omega_wi_k, \"Initial wheel rotational velocity with shape factors\", [sols[omega_wf], m_p/m_w, (1+k_p)/(4*k_w)])\n",
    "display_eq(eq_wheel_velocity_ratio_k, \"Wheel velocity ratio with shape factors\", [m_p/m_w, (1+k_p)/(4*k_w)])\n"
   ]
  },
  {
   "attachments": {},
   "cell_type": "markdown",
   "metadata": {},
   "source": [
    "If we assume a solid cylindrical shooter wheel (i.e. $k_w=1/2$) and a solid spherical projectile (i.e. $k_p=2/5$) we get the following:"
   ]
  },
  {
   "cell_type": "code",
   "execution_count": 15,
   "metadata": {},
   "outputs": [
    {
     "data": {
      "text/markdown": [
       "<div style=\"text-align: center\">\n",
       "\n",
       "#### Initial wheel rotational velocity with cylindrical wheel and spherical ball\n",
       "\n",
       "</div>\n",
       "\n",
       "\\begin{equation}\n",
       "\\omega_{wi} = \\left(1 + \\frac{7}{10} \\frac{m_{p}}{m_{w}}\\right) \\frac{2 v_{p}}{r_{w}} \\end{equation}"
      ],
      "text/plain": [
       "<IPython.core.display.Markdown object>"
      ]
     },
     "metadata": {},
     "output_type": "display_data"
    },
    {
     "data": {
      "text/markdown": [
       "<div style=\"text-align: center\">\n",
       "\n",
       "#### Wheel velocity ratio with cylindrical wheel and spherical ball\n",
       "\n",
       "</div>\n",
       "\n",
       "\\begin{equation}\n",
       "\\frac{\\omega_{wi}}{\\omega_{wf}} = 1 + \\frac{7}{10} \\frac{m_{p}}{m_{w}} \\end{equation}"
      ],
      "text/plain": [
       "<IPython.core.display.Markdown object>"
      ]
     },
     "metadata": {},
     "output_type": "display_data"
    }
   ],
   "source": [
    "eq8=Eq(k_p, Rational(2, 5))\n",
    "eq9=Eq(k_w, Rational(1, 2))\n",
    "# one_plus_k_p_over_4k_w_cylinder_sphere = solve([eq_one_plus_k_p_over_4k_w, eq_one_plus_k_p, eq8, eq9], [one_plus_k_p_over_4k_w, one_plus_k_p, k_p, k_w], dict=True)[0][one_plus_k_p_over_4k_w]\n",
    "# wheel_velocity_ratio_cylinder_sphere=solve([eq_wheel_velocity_ratio_k, Eq(one_plus_k_p_over_4k_w, one_plus_k_p_over_4k_w_cylinder_sphere)], [one_plus_k_p_over_4k_w, wheel_velocity_ratio], dict=True)[0][wheel_velocity_ratio].subs(7*mass_ratio/10, Mul(UnevaluatedExpr(Rational(7, 10)), mass_ratio, evaluate=False))\n",
    "wheel_velocity_ratio_cylinder_sphere = solve([eq_wheel_velocity_ratio_k, eq8, eq9], [wheel_velocity_ratio, k_p, k_w], dict=True)[0][wheel_velocity_ratio]\n",
    "wheel_velocity_ratio_cylinder_sphere = expand(wheel_velocity_ratio_cylinder_sphere).collect(m_p/m_w)\n",
    "eq_omega_wi_cylinder_sphere = Eq(omega_wi, sols[omega_wf]*wheel_velocity_ratio_cylinder_sphere)\n",
    "\n",
    "display_eq(eq_omega_wi_cylinder_sphere, \"Initial wheel rotational velocity with cylindrical wheel and spherical ball\", [sols[omega_wf], m_p/m_w, Rational(7, 10)])\n",
    "display_eq(Eq(wheel_velocity_ratio, wheel_velocity_ratio_cylinder_sphere), \"Wheel velocity ratio with cylindrical wheel and spherical ball\", [m_p/m_w, Rational(7, 10)])\n",
    "\n"
   ]
  },
  {
   "attachments": {},
   "cell_type": "markdown",
   "metadata": {},
   "source": [
    "## Comparison with earlier work\n",
    "\n",
    "In 2012, FRC Team 846, the Funky Monkeys, did the most frequently cited [analysis of flywheel shooters](https://web.archive.org/web/20150920073053/https:/lynbrookrobotics.com/resourcefiles/whitepages/2012/Shooter%20Calculations%20Document.pdf) to date. Others used their whitepaper to create [a spreadsheet calculator](https://www.chiefdelphi.com/t/flywheel-calculator/372836) that is the top Chief Delphi search result for \"flywheel calculator\", and [an online calculator](https://www.reca.lc/flywheel) based on that spreadsheet calculator. Team 846 has also posted [a YouTube video](https://www.youtube.com/watch?v=g8lGrWJ6BHc) describing their analysis in more detail.\n",
    "\n",
    "That analysis is based on the conservation of linear momentum and the incorrect idea that the angular momentum of the wheel and the projectile can be converted to linear momentum my dividing each of those angular momenta by their respective radii. However, linear and angular momentum are different physical quantities and such a conversion is only justified when the the system consists of a point mass moving in a circle. Neither the wheel nor the projectile are such systems.\n",
    "\n",
    "Interestingly, that analysis yields the following formula for the wheel velocity ratio:"
   ]
  },
  {
   "cell_type": "code",
   "execution_count": 19,
   "metadata": {},
   "outputs": [
    {
     "data": {
      "text/markdown": [
       "<div style=\"text-align: center\">\n",
       "\n",
       "#### Wheel velocity ratio from Team 846's analysis\n",
       "\n",
       "</div>\n",
       "\n",
       "\\begin{equation}\n",
       "\\frac{\\omega_{wi}}{\\omega_{wf}} = 1 + \\frac{1 + k_{p}}{2 k_{w}} \\frac{m_{p}}{m_{w}} \\end{equation}"
      ],
      "text/plain": [
       "<IPython.core.display.Markdown object>"
      ]
     },
     "metadata": {},
     "output_type": "display_data"
    }
   ],
   "source": [
    "display_eq(Eq(omega_wi/omega_wf, 1+(1+k_p)/(2*k_w)*(m_p/m_w)), \"Wheel velocity ratio from Team 846's analysis\", [m_p/m_w, (1+k_p)/(2*k_w)])"
   ]
  },
  {
   "attachments": {},
   "cell_type": "markdown",
   "metadata": {},
   "source": [
    "Note that the difference between their formula and the formula derived above, is that where they have a 2 in the denominator, we have a 4. As a result, our analysis predicts that only half as much wheel speed loss as their analysis."
   ]
  },
  {
   "attachments": {},
   "cell_type": "markdown",
   "metadata": {},
   "source": [
    "## Conclusion and future directions\n",
    "\n",
    "As shown above, a model of a flywheel shooter with some common assumptions can be analyzed using the impulses resulting from contact between the projectile and the shooter wheel. and hood. The analysis yields equations for the wheel velocity ratio and initial wheel velocity that are different than those found in earlier work.\n",
    "\n",
    "One avenue for future work would be to compute the efficiency of the shooter by comparing the energy lost by the shooter wheel to the energy gained by the projectile.\n",
    "\n",
    "It should also be possible to extend the above model to include:\n",
    "1. A second shooter wheel on the hood.\n",
    "2. A non-zero initial linear and/or rotational velocity for the projectile.\n",
    "3. A separate flywheel that is connected to the shooter wheel via some gear ratio.\n",
    "\n",
    "It would also be interesting to develop design recommendations that effectively trade-off shooter weight/size, complexity, projectile velocity, wheel spin-up time, and wheel recovery time."
   ]
  },
  {
   "cell_type": "code",
   "execution_count": 16,
   "metadata": {},
   "outputs": [
    {
     "data": {
      "text/html": [
       "<script>\n",
       "    var code_show = true; \n",
       "    function code_toggle() {\n",
       "        var selected_elements = document.querySelectorAll('.jp-CodeCell > .jp-Cell-inputWrapper, .jp-OutputPrompt');\n",
       "        selected_elements.forEach( (e) => { e.style.display = code_show ? null : \"none\"; });\n",
       "        code_show = !code_show;\n",
       "    } \n",
       "    document.onreadystatechange = () => {\n",
       "        if (document.readyState === \"complete\") {\n",
       "            code_toggle();\n",
       "        }\n",
       "    }\n",
       "    </script>\n",
       "    "
      ],
      "text/plain": [
       "<IPython.core.display.HTML object>"
      ]
     },
     "execution_count": 16,
     "metadata": {},
     "output_type": "execute_result"
    }
   ],
   "source": [
    "from IPython.core.display import HTML\n",
    "HTML('''<script>\n",
    "    var code_show = true; \n",
    "    function code_toggle() {\n",
    "        var selected_elements = document.querySelectorAll('.jp-CodeCell > .jp-Cell-inputWrapper, .jp-OutputPrompt');\n",
    "        selected_elements.forEach( (e) => { e.style.display = code_show ? null : \"none\"; });\n",
    "        code_show = !code_show;\n",
    "    } \n",
    "    document.onreadystatechange = () => {\n",
    "        if (document.readyState === \"complete\") {\n",
    "            code_toggle();\n",
    "        }\n",
    "    }\n",
    "    </script>\n",
    "    ''')"
   ]
  },
  {
   "attachments": {},
   "cell_type": "markdown",
   "metadata": {},
   "source": [
    "If you are viewing this as a web page, click <a href=\"javascript:code_toggle()\">here</a> to toggle on/off the raw code."
   ]
  },
  {
   "cell_type": "markdown",
   "metadata": {},
   "source": []
  }
 ],
 "metadata": {
  "kernelspec": {
   "display_name": "Python 3 (ipykernel)",
   "language": "python",
   "name": "python3"
  },
  "language_info": {
   "codemirror_mode": {
    "name": "ipython",
    "version": 3
   },
   "file_extension": ".py",
   "mimetype": "text/x-python",
   "name": "python",
   "nbconvert_exporter": "python",
   "pygments_lexer": "ipython3",
   "version": "3.11.3"
  },
  "vscode": {
   "interpreter": {
    "hash": "e7370f93d1d0cde622a1f8e1c04877d8463912d04d973331ad4851f04de6915a"
   }
  }
 },
 "nbformat": 4,
 "nbformat_minor": 4
}
