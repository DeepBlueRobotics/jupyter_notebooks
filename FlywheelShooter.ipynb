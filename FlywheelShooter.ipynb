{
 "cells": [
  {
   "cell_type": "code",
   "execution_count": 36,
   "metadata": {},
   "outputs": [],
   "source": [
    "from IPython.display import Markdown\n",
    "\n",
    "def display_eq(eq, label):\n",
    "    return display(Markdown(f'<div style=\"text-align: center\">\\n\\n#### {label}\\n\\n</div>\\n\\n' + '\\\\begin{equation}\\n' + f'{latex(eq)}' + ' \\\\end{equation}'))"
   ]
  },
  {
   "cell_type": "code",
   "execution_count": 37,
   "metadata": {
    "tags": [
     "remove-input"
    ]
   },
   "outputs": [],
   "source": [
    "from sympy import *\n",
    "init_printing(order='none')\n",
    "# Givens\n",
    "r_w = symbols(\"r_w\", real=True, finite=True, positive=True)\n",
    "r_p = symbols(\"r_p\", real=True, finite=True, positive=True)\n",
    "I_p = symbols(\"I_p\", real=True, finite=True, positive=True)\n",
    "I_w = symbols(\"I_w\", real=True, finite=True, positive=True)\n",
    "omega_wi = symbols(\"\\\\omega_{wi}\", real=True, finite=True, positive=True)\n",
    "m_p = symbols(\"m_p\", real=True, finite=True, positive=True)\n",
    "\n",
    "# Unknowns\n",
    "J_w = symbols(\"J_w\", real=True, finite=True, positive=True)\n",
    "J_h = symbols(\"J_h\", real=True, finite=True, positive=True)\n",
    "omega_wf = symbols(\"\\\\omega_{wf}\", real=True, finite=True, positive=True)\n",
    "omega_p = symbols(\"\\\\omega_p\", real=True, finite=True, positive=True)\n",
    "v_p = symbols(\"v_p\", real=True, finite=True, positive=True)"
   ]
  },
  {
   "attachments": {},
   "cell_type": "markdown",
   "metadata": {},
   "source": [
    "## Assumptions\n",
    "\n",
    "1. The projectile is rolling against the hood when it exits the shooter.\n",
    "2. The projectile is rolling against the shooter wheel when it exits the shooter.\n",
    "3. The shooter wheel has a radius $r_w$, a moment of inertia of $I_w$, and an initial rotational velocity of $\\omega_{wi}$.\n",
    "4. The projectile has a radius $r_p$, a moment of inertia of $I_p$, and an initial rotational velocity of 0.\n",
    "5. While the projectile is in the shooter:\n",
    "    1. The contact between the surface of the shooter wheel and the surface of the projectile produces an impulse on each of them (in opposite directions). This impulse decreases the shooter wheel's rotational velocity, and increases both the projectile's rotational velocity, and its linear velocity.\n",
    "    2. The contact between the hood and the surface of the projectile produces an additional impulse on the projectile, on the opposite side and in the opposite direction. This contact increases the projectile's rotational velocity, but decreases it linear velocity.\n",
    "    3. There are no other torques or forces acting on either the shooter wheel or the projectile. The projectile spends so little time in the shooter that any attempt to compensate for the decrease in shooter wheel speed will not occur until after the projectile has exited.\n",
    "6. The mass and moment of inertia of the robot is high enough that neither impulse meaningfully changes the linear or rotational velocity of the robot. As a result the shooter wheel axle and the contact point with the hood are assumed to be fixed.\n",
    "\n",
    "## The problem\n",
    "\n",
    "Given $r_p$, $I_p$, $r_w$, $I_w$, and $\\omega_{wi}$, find the projectile's linear velocity $v_p$ and rotational velocity $\\omega_p$ as well as the shooter wheel's final rotational velocity $\\omega_{wf}$.\n",
    "\n",
    "To do this it will be useful to introduce 2 additional unknowns, the magnitudes of the impulses on the wheel side and the hood side of the projectile, $J_w$ and $J_h$ respectively.\n",
    "\n",
    "## What physics tells us\n",
    "\n",
    "An object's linear momentum is equal to its mass times its linear velocity.\n",
    "\n",
    "An impulse causes a change in an object's linear momentum equal to the magnitude of the impulse.\n",
    "\n",
    "So:"
   ]
  },
  {
   "cell_type": "code",
   "execution_count": 38,
   "metadata": {},
   "outputs": [
    {
     "data": {
      "text/markdown": [
       "<div style=\"text-align: center\">\n",
       "\n",
       "#### Equation 1\n",
       "\n",
       "</div>\n",
       "\n",
       "\\begin{equation}\n",
       "m_{p} v_{p} = J_{w} - J_{h} \\end{equation}"
      ],
      "text/plain": [
       "<IPython.core.display.Markdown object>"
      ]
     },
     "metadata": {},
     "output_type": "display_data"
    }
   ],
   "source": [
    "eq1=Eq(m_p*v_p, J_w-J_h)\n",
    "display_eq(eq1, 'Equation 1')"
   ]
  },
  {
   "cell_type": "markdown",
   "metadata": {},
   "source": [
    "An object's angular momentum is equal to its moment of inertial times its rotation velocity.\n",
    "\n",
    "An impulse whose direction is perpendicular to the line between an object's center of mass and the point of contact causes a change in the object's angular momentum (about it's center of mass) equal to the magnitude of the impulse times the distance to the point of contact.\n",
    "\n",
    "So:"
   ]
  },
  {
   "cell_type": "code",
   "execution_count": 39,
   "metadata": {},
   "outputs": [
    {
     "data": {
      "text/markdown": [
       "<div style=\"text-align: center\">\n",
       "\n",
       "#### Equation 2\n",
       "\n",
       "</div>\n",
       "\n",
       "\\begin{equation}\n",
       "I_{p} \\omega_{p} = J_{h} r_{p} + J_{w} r_{p} \\end{equation}"
      ],
      "text/plain": [
       "<IPython.core.display.Markdown object>"
      ]
     },
     "metadata": {},
     "output_type": "display_data"
    },
    {
     "data": {
      "text/markdown": [
       "<div style=\"text-align: center\">\n",
       "\n",
       "#### Equation 3\n",
       "\n",
       "</div>\n",
       "\n",
       "\\begin{equation}\n",
       "I_{w} \\omega_{wi} - I_{w} \\omega_{wf} = J_{w} r_{w} \\end{equation}"
      ],
      "text/plain": [
       "<IPython.core.display.Markdown object>"
      ]
     },
     "metadata": {},
     "output_type": "display_data"
    }
   ],
   "source": [
    "eq2=Eq(I_p*omega_p, J_h*r_p+J_w*r_p)\n",
    "eq3=Eq(I_w*omega_wi-I_w*omega_wf, J_w*r_w)\n",
    "display_eq(eq2, 'Equation 2')\n",
    "display_eq(eq3, 'Equation 3')"
   ]
  },
  {
   "cell_type": "markdown",
   "metadata": {},
   "source": [
    "Since we are assuming that when the projectile exits the shooter it is rolling against the hood, it's linear velocity will be half of the linear velocity of the point opposite the hood. So projectile's linear velocity will be half of the linear velocity of the point where the projectile is contacting the wheel. Since the projectile is also rolling against the wheel, the linear velocity of that point is the same as the linear velocity of a point on the surface of the wheel. The linear velocity of a point on a rotating object is the rotational velocity times the distance from the center of rotation to the point."
   ]
  },
  {
   "cell_type": "code",
   "execution_count": 40,
   "metadata": {},
   "outputs": [
    {
     "data": {
      "text/markdown": [
       "<div style=\"text-align: center\">\n",
       "\n",
       "#### Equation 4\n",
       "\n",
       "</div>\n",
       "\n",
       "\\begin{equation}\n",
       "v_{p} = \\frac{\\omega_{wf} r_{w}}{2} \\end{equation}"
      ],
      "text/plain": [
       "<IPython.core.display.Markdown object>"
      ]
     },
     "metadata": {},
     "output_type": "display_data"
    }
   ],
   "source": [
    "eq4=Eq(v_p,(omega_wf*r_w)/2)\n",
    "display_eq(eq4, 'Equation 4')"
   ]
  },
  {
   "cell_type": "markdown",
   "metadata": {},
   "source": [
    "Since the projectile is rolling against the hood, it's linear velocity must also be the same as the linear velocity of a point on the surface of the projectile in when viewed from a frame of reference that is moving at the same linear velocity as the projectile."
   ]
  },
  {
   "cell_type": "code",
   "execution_count": 41,
   "metadata": {},
   "outputs": [
    {
     "data": {
      "text/markdown": [
       "<div style=\"text-align: center\">\n",
       "\n",
       "#### Equation 5\n",
       "\n",
       "</div>\n",
       "\n",
       "\\begin{equation}\n",
       "v_{p} = \\omega_{p} r_{p} \\end{equation}"
      ],
      "text/plain": [
       "<IPython.core.display.Markdown object>"
      ]
     },
     "metadata": {},
     "output_type": "display_data"
    }
   ],
   "source": [
    "eq5=Eq(v_p,omega_p*r_p)\n",
    "display_eq(eq5, 'Equation 5')"
   ]
  },
  {
   "attachments": {},
   "cell_type": "markdown",
   "metadata": {},
   "source": [
    "We now have 5 equations and 5 unknowns. We can solve the system manually as described in [the appendix](#appendix-solving-the-system-of-equations) or use a computer algebra system  as is done in this Jupyter notebook. The result is the following formula for the wheel's final rotational velocity:"
   ]
  },
  {
   "cell_type": "code",
   "execution_count": 42,
   "metadata": {},
   "outputs": [
    {
     "data": {
      "text/markdown": [
       "<div style=\"text-align: center\">\n",
       "\n",
       "#### Final wheel rotational velocity\n",
       "\n",
       "</div>\n",
       "\n",
       "\\begin{equation}\n",
       "\\omega_{wf} = \\frac{4 I_{w} \\omega_{wi} r_{p}^{2}}{I_{p} r_{w}^{2} + 4 I_{w} r_{p}^{2} + m_{p} r_{p}^{2} r_{w}^{2}} \\end{equation}"
      ],
      "text/plain": [
       "<IPython.core.display.Markdown object>"
      ]
     },
     "metadata": {},
     "output_type": "display_data"
    }
   ],
   "source": [
    "sols = solve([eq1, eq2, eq3, eq4, eq5], [v_p, omega_p, omega_wf, J_w, J_h])\n",
    "display_eq(Eq(omega_wf, sols[omega_wf]), \"Final wheel rotational velocity\")"
   ]
  },
  {
   "attachments": {},
   "cell_type": "markdown",
   "metadata": {},
   "source": [
    "[Equation 4](#equation-4) allows us to use $\\omega_{wf}$ to compute the projectile's linear velocity:"
   ]
  },
  {
   "cell_type": "code",
   "execution_count": 43,
   "metadata": {},
   "outputs": [
    {
     "data": {
      "text/markdown": [
       "<div style=\"text-align: center\">\n",
       "\n",
       "#### Projectile linear velocity\n",
       "\n",
       "</div>\n",
       "\n",
       "\\begin{equation}\n",
       "v_{p} = \\frac{\\omega_{wf} r_{w}}{2} \\end{equation}"
      ],
      "text/plain": [
       "<IPython.core.display.Markdown object>"
      ]
     },
     "metadata": {},
     "output_type": "display_data"
    }
   ],
   "source": [
    "sols2 = solve([eq4, eq5], [v_p, omega_p])\n",
    "display_eq(Eq(v_p, sols2[v_p]), \"Projectile linear velocity\")"
   ]
  },
  {
   "attachments": {},
   "cell_type": "markdown",
   "metadata": {},
   "source": [
    "And substituting that formula into [Equation 5](#equation-5) allows us to also compute the projectile's rotational velocity from $\\omega_{wf}$:"
   ]
  },
  {
   "cell_type": "code",
   "execution_count": 44,
   "metadata": {},
   "outputs": [
    {
     "data": {
      "text/markdown": [
       "<div style=\"text-align: center\">\n",
       "\n",
       "#### Projectile rotational velocity\n",
       "\n",
       "</div>\n",
       "\n",
       "\\begin{equation}\n",
       "\\omega_{p} = \\frac{\\omega_{wf} r_{w}}{2 r_{p}} \\end{equation}"
      ],
      "text/plain": [
       "<IPython.core.display.Markdown object>"
      ]
     },
     "metadata": {},
     "output_type": "display_data"
    }
   ],
   "source": [
    "display_eq(Eq(omega_p, sols2[omega_p]), \"Projectile rotational velocity\")"
   ]
  },
  {
   "attachments": {},
   "cell_type": "markdown",
   "metadata": {},
   "source": [
    "## Appendix: Solving the system of equations\n",
    "\n",
    "1. Solve [Equation 5](#Equation-5) for $\\omega_p$.\n",
    "2. Substitute that formula for $\\omega_p$ into [Equation 2](#Equation-2).\n",
    "3. Divide both sides of the result by $r_p$.\n",
    "4. Add [Equation 1](#Equation-1) to that result to eliminate $J_h$.\n",
    "5. Solve the resulting equation for $J_w$.\n",
    "6. Substitute that formula for $J_w$ and the formula for $v_p$ from [Equation 4](#Equation-4) into [Equation 3](#Equation-3).\n",
    "7. Solve the resulting equation for $\\omega_{wf}$ in terms of the given values.\n",
    "8. Substitute that formula into [Equation 4](#Equation-4) to get $v_p$.\n",
    "9. Substitute the forumla for $v_p$ into [Equation 5](#Equation-5) to get $\\omega_p$."
   ]
  },
  {
   "cell_type": "code",
   "execution_count": 45,
   "metadata": {},
   "outputs": [
    {
     "data": {
      "text/html": [
       "<script>\n",
       "    var code_show = true; \n",
       "    function code_toggle() {\n",
       "        var selected_elements = document.querySelectorAll('.jp-CodeCell > .jp-Cell-inputWrapper, .jp-OutputPrompt');\n",
       "        selected_elements.forEach( (e) => { e.style.display = code_show ? null : \"none\"; });\n",
       "        code_show = !code_show;\n",
       "    } \n",
       "    document.onreadystatechange = () => {\n",
       "        if (document.readyState === \"complete\") {\n",
       "            code_toggle();\n",
       "        }\n",
       "    }\n",
       "    </script>\n",
       "    "
      ],
      "text/plain": [
       "<IPython.core.display.HTML object>"
      ]
     },
     "execution_count": 45,
     "metadata": {},
     "output_type": "execute_result"
    }
   ],
   "source": [
    "from IPython.core.display import HTML\n",
    "HTML('''<script>\n",
    "    var code_show = true; \n",
    "    function code_toggle() {\n",
    "        var selected_elements = document.querySelectorAll('.jp-CodeCell > .jp-Cell-inputWrapper, .jp-OutputPrompt');\n",
    "        selected_elements.forEach( (e) => { e.style.display = code_show ? null : \"none\"; });\n",
    "        code_show = !code_show;\n",
    "    } \n",
    "    document.onreadystatechange = () => {\n",
    "        if (document.readyState === \"complete\") {\n",
    "            code_toggle();\n",
    "        }\n",
    "    }\n",
    "    </script>\n",
    "    ''')"
   ]
  },
  {
   "attachments": {},
   "cell_type": "markdown",
   "metadata": {},
   "source": [
    "To toggle on/off the raw code, click <a href=\"javascript:code_toggle()\">here</a>."
   ]
  },
  {
   "cell_type": "code",
   "execution_count": null,
   "metadata": {},
   "outputs": [],
   "source": []
  }
 ],
 "metadata": {
  "kernelspec": {
   "display_name": "Python 3 (ipykernel)",
   "language": "python",
   "name": "python3"
  },
  "language_info": {
   "codemirror_mode": {
    "name": "ipython",
    "version": 3
   },
   "file_extension": ".py",
   "mimetype": "text/x-python",
   "name": "python",
   "nbconvert_exporter": "python",
   "pygments_lexer": "ipython3",
   "version": "3.11.3"
  },
  "vscode": {
   "interpreter": {
    "hash": "e7370f93d1d0cde622a1f8e1c04877d8463912d04d973331ad4851f04de6915a"
   }
  }
 },
 "nbformat": 4,
 "nbformat_minor": 4
}
