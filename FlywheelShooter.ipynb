{
 "cells": [
  {
   "cell_type": "code",
   "execution_count": 36,
   "metadata": {},
   "outputs": [],
   "source": [
    "from sympy import *\n",
    "init_printing()\n",
    "# Givens\n",
    "r_w = symbols(\"r_w\", real=True, finite=True, positive=True)\n",
    "r_p = symbols(\"r_p\", real=True, finite=True, positive=True)\n",
    "I_p = symbols(\"I_p\", real=True, finite=True, positive=True)\n",
    "I_w = symbols(\"I_w\", real=True, finite=True, positive=True)\n",
    "omega_wi = symbols(\"\\\\omega_{wi}\", real=True, finite=True, positive=True)\n",
    "m_p = symbols(\"m_p\", real=True, finite=True, positive=True)\n",
    "\n",
    "# Unknowns\n",
    "J_w = symbols(\"J_w\", real=True, finite=True, positive=True)\n",
    "J_h = symbols(\"J_h\", real=True, finite=True, positive=True)\n",
    "omega_wf = symbols(\"\\\\omega_{wf}\", real=True, finite=True, positive=True)\n",
    "omega_p = symbols(\"\\\\omega_p\", real=True, finite=True, positive=True)\n",
    "v_p = symbols(\"v_p\", real=True, finite=True, positive=True)\n"
   ]
  },
  {
   "cell_type": "markdown",
   "metadata": {},
   "source": [
    "# Assumptions\n",
    "\n",
    "1. The projectile is rolling against the hood when it exits the shooter.\n",
    "2. The projectile is rolling against the shooter wheel when it exits the shooter.\n",
    "3. The shooter wheel has a radius $r_w$, a moment of inertia of $I_w$, and an initial rotational velocity of $\\omega_{wi}$.\n",
    "4. The projectile has a radius $r_p$, a moment of inertia of $I_p$, and an initial rotational velocity of 0.\n",
    "5. While the projectile is in the shooter:\n",
    "    1. The contact between the surface of the shooter wheel and the surface of the projectile produces an impulse on each of them (in opposite directions). This impulse decreases the shooter wheel's rotational velocity, and increases both the projectile's rotational velocity, and its linear velocity.\n",
    "    2. The contact between the hood and the surface of the projectile produces an additional impulse on the projectile, on the opposite side and in the opposite direction. This contact increases the projectile's rotational velocity, but decreases it linear velocity.\n",
    "    3. There are no other torques or forces acting on either the shooter wheel or the projectile. The projectile spends so little time in the shooter that any attempt to compensate for the decrease in shooter wheel speed will not occur until after the projectile has exited.\n",
    "6. The mass and moment of inertia of the robot is high enough that neither impulse meaningfully changes the linear or rotational velocity of the robot. As a result the shooter wheel axle and the contact point with the hood are assumed to be fixed.\n",
    "\n",
    "# The problem\n",
    "\n",
    "Given $r_p$, $I_p$, $r_w$, $I_w$, and $\\omega_{wi}$, find the projectile's linear velocity $v_p$ and rotational velocity $\\omega_p$ as well as the shooter wheel's final rotational velocity $\\omega_{wf}$.\n",
    "\n",
    "To do this it will be useful to introduce 2 additional unknowns, the magnitudes of the impulses on the wheel side and the hood side of the projectile, $J_w$ and $J_h$ respectively.\n",
    "\n",
    "# What physics tells us\n",
    "\n",
    "An object's linear momentum is equal to its mass times its linear velocity.\n",
    "\n",
    "An impulse causes a change in an object's linear momentum equal to the magnitude of the impulse.\n",
    "\n",
    "So:"
   ]
  },
  {
   "cell_type": "code",
   "execution_count": 52,
   "metadata": {},
   "outputs": [
    {
     "ename": "SyntaxError",
     "evalue": "invalid syntax (852954953.py, line 3)",
     "output_type": "error",
     "traceback": [
      "\u001b[0;36m  Cell \u001b[0;32mIn[52], line 3\u001b[0;36m\u001b[0m\n\u001b[0;31m    help display\u001b[0m\n\u001b[0m         ^\u001b[0m\n\u001b[0;31mSyntaxError\u001b[0m\u001b[0;31m:\u001b[0m invalid syntax\n"
     ]
    }
   ],
   "source": [
    "eq1=Eq(m_p*v_p, J_w-J_h)\n",
    "display(eq1)"
   ]
  },
  {
   "cell_type": "markdown",
   "metadata": {},
   "source": [
    "An object's angular momentum is equal to its moment of inertial times its rotation velocity.\n",
    "\n",
    "An impulse whose direction is perpendicular to the line between an object's center of mass and the point of contact causes a change in the object's angular momentum (about it's center of mass) equal to the magnitude of the impulse times the distance to the point of contact.\n",
    "\n",
    "So:"
   ]
  },
  {
   "cell_type": "code",
   "execution_count": 43,
   "metadata": {},
   "outputs": [
    {
     "data": {
      "image/png": "[encoded data removed]",
      "text/latex": [
       "$\\displaystyle I_{p} \\omega_{p} = J_{h} r_{p} + J_{w} r_{p}$"
      ],
      "text/plain": [
       "Iₚ⋅\\omegaₚ = Jₕ⋅rₚ + J_w⋅rₚ"
      ]
     },
     "metadata": {},
     "output_type": "display_data"
    },
    {
     "data": {
      "image/png": "[encoded data removed]",
      "text/latex": [
       "$\\displaystyle - I_{w} \\omega_{wf} + I_{w} \\omega_{wi} = J_{w} r_{w}$"
      ],
      "text/plain": [
       "-I_w⋅\\omega_{wf} + I_w⋅\\omega_{wi} = J_w⋅r_w"
      ]
     },
     "metadata": {},
     "output_type": "display_data"
    }
   ],
   "source": [
    "eq2=Eq(I_p*omega_p, J_h*r_p+J_w*r_p)\n",
    "eq3=Eq(I_w*omega_wi-I_w*omega_wf, J_w*r_w)\n",
    "display(eq2)\n",
    "display(eq3)"
   ]
  },
  {
   "cell_type": "markdown",
   "metadata": {},
   "source": [
    "Since we are assuming that when the projectile exits the shooter it is rolling against the hood, it's linear velocity will be half of the linear velocity of the point opposite the hood. So projectile's linear velocity will be half of the linear velocity of the point where the projectile is contacting the wheel. Since the projectile is also rolling against the wheel, the linear velocity of that point is the same as the linear velocity of a point on the surface of the wheel. The linear velocity of a point on a rotating object is the rotational velocity times the distance from the center of rotation to the point."
   ]
  },
  {
   "cell_type": "code",
   "execution_count": 44,
   "metadata": {},
   "outputs": [
    {
     "data": {
      "image/png": "[encoded data removed]",
      "text/latex": [
       "$\\displaystyle v_{p} = \\frac{\\omega_{wf} r_{w}}{2}$"
      ],
      "text/plain": [
       "     \\omega_{wf}⋅r_w\n",
       "vₚ = ───────────────\n",
       "            2       "
      ]
     },
     "metadata": {},
     "output_type": "display_data"
    }
   ],
   "source": [
    "eq4=Eq(v_p,(omega_wf*r_w)/2)\n",
    "display(eq4)"
   ]
  },
  {
   "cell_type": "markdown",
   "metadata": {},
   "source": [
    "Since the projectile is rolling against the hood, it's linear velocity must also be the same as the linear velocity of a point on the surface of the projectile in when viewed from a frame of reference that is moving at the same linear velocity as the projectile."
   ]
  },
  {
   "cell_type": "code",
   "execution_count": 45,
   "metadata": {},
   "outputs": [
    {
     "data": {
      "image/png": "[encoded data removed]",
      "text/latex": [
       "$\\displaystyle v_{p} = \\omega_{p} r_{p}$"
      ],
      "text/plain": [
       "vₚ = \\omegaₚ⋅rₚ"
      ]
     },
     "metadata": {},
     "output_type": "display_data"
    }
   ],
   "source": [
    "eq5=Eq(v_p,omega_p*r_p)\n",
    "display(eq5)"
   ]
  },
  {
   "cell_type": "markdown",
   "metadata": {},
   "source": [
    "We now have 5 equations and 5 unknowns. Solving them gives:"
   ]
  },
  {
   "cell_type": "code",
   "execution_count": 48,
   "metadata": {},
   "outputs": [
    {
     "data": {
      "image/png": "[encoded data removed]",
      "text/latex": [
       "$\\displaystyle \\left\\{ J_{h} : \\frac{I_{p} I_{w} \\omega_{wi} r_{w} - I_{w} \\omega_{wi} m_{p} r_{p}^{2} r_{w}}{I_{p} r_{w}^{2} + 4 I_{w} r_{p}^{2} + m_{p} r_{p}^{2} r_{w}^{2}}, \\  J_{w} : \\frac{I_{p} I_{w} \\omega_{wi} r_{w} + I_{w} \\omega_{wi} m_{p} r_{p}^{2} r_{w}}{I_{p} r_{w}^{2} + 4 I_{w} r_{p}^{2} + m_{p} r_{p}^{2} r_{w}^{2}}, \\  \\omega_{p} : \\frac{2 I_{w} \\omega_{wi} r_{p} r_{w}}{I_{p} r_{w}^{2} + 4 I_{w} r_{p}^{2} + m_{p} r_{p}^{2} r_{w}^{2}}, \\  \\omega_{wf} : \\frac{4 I_{w} \\omega_{wi} r_{p}^{2}}{I_{p} r_{w}^{2} + 4 I_{w} r_{p}^{2} + m_{p} r_{p}^{2} r_{w}^{2}}, \\  v_{p} : \\frac{2 I_{w} \\omega_{wi} r_{p}^{2} r_{w}}{I_{p} r_{w}^{2} + 4 I_{w} r_{p}^{2} + m_{p} r_{p}^{2} r_{w}^{2}}\\right\\}$"
      ],
      "text/plain": [
       "⎧                                                  2                          \n",
       "⎪    Iₚ⋅I_w⋅\\omega_{wi}⋅r_w - I_w⋅\\omega_{wi}⋅mₚ⋅rₚ ⋅r_w       Iₚ⋅I_w⋅\\omega_{\n",
       "⎨Jₕ: ───────────────────────────────────────────────────, J_w: ───────────────\n",
       "⎪                   2           2        2    2                               \n",
       "⎩             Iₚ⋅r_w  + 4⋅I_w⋅rₚ  + mₚ⋅rₚ ⋅r_w                          Iₚ⋅r_w\n",
       "\n",
       "                               2                                              \n",
       "wi}⋅r_w + I_w⋅\\omega_{wi}⋅mₚ⋅rₚ ⋅r_w                2⋅I_w⋅\\omega_{wi}⋅rₚ⋅r_w  \n",
       "────────────────────────────────────, \\omegaₚ: ───────────────────────────────\n",
       "2           2        2    2                          2           2        2   \n",
       "  + 4⋅I_w⋅rₚ  + mₚ⋅rₚ ⋅r_w                     Iₚ⋅r_w  + 4⋅I_w⋅rₚ  + mₚ⋅rₚ ⋅r_\n",
       "\n",
       "                                           2                                  \n",
       "                       4⋅I_w⋅\\omega_{wi}⋅rₚ                 2⋅I_w⋅\\omega_{wi}⋅\n",
       "──, \\omega_{wf}: ─────────────────────────────────, vₚ: ──────────────────────\n",
       " 2                     2           2        2    2            2           2   \n",
       "w                Iₚ⋅r_w  + 4⋅I_w⋅rₚ  + mₚ⋅rₚ ⋅r_w       Iₚ⋅r_w  + 4⋅I_w⋅rₚ  + \n",
       "\n",
       "  2        ⎫\n",
       "rₚ ⋅r_w    ⎪\n",
       "───────────⎬\n",
       "     2    2⎪\n",
       "mₚ⋅rₚ ⋅r_w ⎭"
      ]
     },
     "metadata": {},
     "output_type": "display_data"
    }
   ],
   "source": [
    "sols = solve([eq1, eq2, eq3, eq4, eq5], [v_p, omega_p, omega_wf, J_w, J_h])\n",
    "display(sols)"
   ]
  },
  {
   "cell_type": "code",
   "execution_count": null,
   "metadata": {},
   "outputs": [],
   "source": []
  }
 ],
 "metadata": {
  "kernelspec": {
   "display_name": "Python 3 (ipykernel)",
   "language": "python",
   "name": "python3"
  },
  "language_info": {
   "codemirror_mode": {
    "name": "ipython",
    "version": 3
   },
   "file_extension": ".py",
   "mimetype": "text/x-python",
   "name": "python",
   "nbconvert_exporter": "python",
   "pygments_lexer": "ipython3",
   "version": "3.8.16"
  }
 },
 "nbformat": 4,
 "nbformat_minor": 4
}
