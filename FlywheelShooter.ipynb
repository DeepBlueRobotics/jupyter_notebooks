{
 "cells": [
  {
   "cell_type": "code",
   "execution_count": 1,
   "metadata": {},
   "outputs": [],
   "source": [
    "from IPython.display import Markdown\n",
    "\n",
    "def display_eq(eq, label):\n",
    "    return display(Markdown(f'<div style=\"text-align: center\">\\n\\n#### {label}\\n\\n</div>\\n\\n' + '\\\\begin{equation}\\n' + f'{latex(eq)}' + ' \\\\end{equation}'))"
   ]
  },
  {
   "cell_type": "code",
   "execution_count": 2,
   "metadata": {
    "tags": [
     "remove-input"
    ]
   },
   "outputs": [],
   "source": [
    "from sympy import *\n",
    "init_printing(order='none')\n",
    "# Givens\n",
    "r_w = symbols(\"r_w\", real=True, finite=True, positive=True)\n",
    "r_p = symbols(\"r_p\", real=True, finite=True, positive=True)\n",
    "I_p = symbols(\"I_p\", real=True, finite=True, positive=True)\n",
    "I_w = symbols(\"I_w\", real=True, finite=True, positive=True)\n",
    "omega_wi = symbols(\"\\\\omega_{wi}\", real=True, finite=True, positive=True)\n",
    "m_p = symbols(\"m_p\", real=True, finite=True, positive=True)\n",
    "\n",
    "# Unknowns\n",
    "J_w = symbols(\"J_w\", real=True, finite=True, positive=True)\n",
    "J_h = symbols(\"J_h\", real=True, finite=True, positive=True)\n",
    "omega_wf = symbols(\"\\\\omega_{wf}\", real=True, finite=True, positive=True)\n",
    "omega_p = symbols(\"\\\\omega_p\", real=True, finite=True, positive=True)\n",
    "v_p = symbols(\"v_p\", real=True, finite=True, positive=True)"
   ]
  },
  {
   "attachments": {},
   "cell_type": "markdown",
   "metadata": {},
   "source": [
    "## Assumptions\n",
    "\n",
    "1. The projectile is rolling against the hood when it exits the shooter.\n",
    "2. The projectile is rolling against the shooter wheel when it exits the shooter.\n",
    "3. The shooter wheel has a radius $r_w$, a moment of inertia of $I_w$, and an initial rotational velocity of $\\omega_{wi}$.\n",
    "4. The projectile has a radius $r_p$, a moment of inertia of $I_p$, and an initial rotational velocity of 0.\n",
    "5. While the projectile is in the shooter:\n",
    "    1. The contact between the surface of the shooter wheel and the surface of the projectile produces an impulse on each of them (in opposite directions). This impulse decreases the shooter wheel's rotational velocity, and increases both the projectile's rotational velocity, and its linear velocity.\n",
    "    2. The contact between the hood and the surface of the projectile produces an additional impulse on the projectile, on the opposite side and in the opposite direction. This contact increases the projectile's rotational velocity, but decreases it linear velocity.\n",
    "    3. There are no other torques or forces acting on either the shooter wheel or the projectile. The projectile spends so little time in the shooter that any attempt to compensate for the decrease in shooter wheel speed will not occur until after the projectile has exited.\n",
    "6. The mass and moment of inertia of the robot is high enough that neither impulse meaningfully changes the linear or rotational velocity of the robot. As a result the shooter wheel axle and the contact point with the hood are assumed to be fixed.\n",
    "\n",
    "## The problem\n",
    "\n",
    "Given $r_p$, $I_p$, $r_w$, $I_w$, and the desired linear velocity of the projectile $v_p$, find the shooter wheel's initial velocity $\\omega_{wi}$. It will also be convenient to determine know the wheel's final rotational velocity $\\omega_{wf}$, and the projectile's rotational velocity $\\omega_p$.\n",
    "\n",
    "To do this it will be useful to introduce 2 additional unknowns, the magnitudes of the impulses on the wheel side and the hood side of the projectile, $J_w$ and $J_h$ respectively.\n",
    "\n",
    "## What physics tells us\n",
    "\n",
    "An object's linear momentum is equal to its mass times its linear velocity.\n",
    "\n",
    "An impulse causes a change in an object's linear momentum equal to the magnitude of the impulse.\n",
    "\n",
    "So:"
   ]
  },
  {
   "cell_type": "code",
   "execution_count": 3,
   "metadata": {},
   "outputs": [
    {
     "data": {
      "text/markdown": [
       "<div style=\"text-align: center\">\n",
       "\n",
       "#### Equation 1\n",
       "\n",
       "</div>\n",
       "\n",
       "\\begin{equation}\n",
       "m_{p} v_{p} = J_{w} - J_{h} \\end{equation}"
      ],
      "text/plain": [
       "<IPython.core.display.Markdown object>"
      ]
     },
     "metadata": {},
     "output_type": "display_data"
    }
   ],
   "source": [
    "eq1=Eq(m_p*v_p, J_w-J_h)\n",
    "display_eq(eq1, 'Equation 1')"
   ]
  },
  {
   "cell_type": "markdown",
   "metadata": {},
   "source": [
    "An object's angular momentum is equal to its moment of inertial times its rotation velocity.\n",
    "\n",
    "An impulse whose direction is perpendicular to the line between an object's center of mass and the point of contact causes a change in the object's angular momentum (about it's center of mass) equal to the magnitude of the impulse times the distance to the point of contact.\n",
    "\n",
    "So:"
   ]
  },
  {
   "cell_type": "code",
   "execution_count": 4,
   "metadata": {},
   "outputs": [
    {
     "data": {
      "text/markdown": [
       "<div style=\"text-align: center\">\n",
       "\n",
       "#### Equation 2\n",
       "\n",
       "</div>\n",
       "\n",
       "\\begin{equation}\n",
       "I_{p} \\omega_{p} = J_{h} r_{p} + J_{w} r_{p} \\end{equation}"
      ],
      "text/plain": [
       "<IPython.core.display.Markdown object>"
      ]
     },
     "metadata": {},
     "output_type": "display_data"
    },
    {
     "data": {
      "text/markdown": [
       "<div style=\"text-align: center\">\n",
       "\n",
       "#### Equation 3\n",
       "\n",
       "</div>\n",
       "\n",
       "\\begin{equation}\n",
       "I_{w} \\omega_{wi} - I_{w} \\omega_{wf} = J_{w} r_{w} \\end{equation}"
      ],
      "text/plain": [
       "<IPython.core.display.Markdown object>"
      ]
     },
     "metadata": {},
     "output_type": "display_data"
    }
   ],
   "source": [
    "eq2=Eq(I_p*omega_p, J_h*r_p+J_w*r_p)\n",
    "eq3=Eq(I_w*omega_wi-I_w*omega_wf, J_w*r_w)\n",
    "display_eq(eq2, 'Equation 2')\n",
    "display_eq(eq3, 'Equation 3')"
   ]
  },
  {
   "cell_type": "markdown",
   "metadata": {},
   "source": [
    "Since we are assuming that when the projectile exits the shooter it is rolling against the hood, it's linear velocity will be half of the linear velocity of the point opposite the hood. So projectile's linear velocity will be half of the linear velocity of the point where the projectile is contacting the wheel. Since the projectile is also rolling against the wheel, the linear velocity of that point is the same as the linear velocity of a point on the surface of the wheel. The linear velocity of a point on a rotating object is the rotational velocity times the distance from the center of rotation to the point."
   ]
  },
  {
   "cell_type": "code",
   "execution_count": 5,
   "metadata": {},
   "outputs": [
    {
     "data": {
      "text/markdown": [
       "<div style=\"text-align: center\">\n",
       "\n",
       "#### Equation 4\n",
       "\n",
       "</div>\n",
       "\n",
       "\\begin{equation}\n",
       "v_{p} = \\frac{\\omega_{wf} r_{w}}{2} \\end{equation}"
      ],
      "text/plain": [
       "<IPython.core.display.Markdown object>"
      ]
     },
     "metadata": {},
     "output_type": "display_data"
    }
   ],
   "source": [
    "eq4=Eq(v_p,(omega_wf*r_w)/2)\n",
    "display_eq(eq4, 'Equation 4')"
   ]
  },
  {
   "cell_type": "markdown",
   "metadata": {},
   "source": [
    "Since the projectile is rolling against the hood, it's linear velocity must also be the same as the linear velocity of a point on the surface of the projectile in when viewed from a frame of reference that is moving at the same linear velocity as the projectile."
   ]
  },
  {
   "cell_type": "code",
   "execution_count": 6,
   "metadata": {},
   "outputs": [
    {
     "data": {
      "text/markdown": [
       "<div style=\"text-align: center\">\n",
       "\n",
       "#### Equation 5\n",
       "\n",
       "</div>\n",
       "\n",
       "\\begin{equation}\n",
       "v_{p} = \\omega_{p} r_{p} \\end{equation}"
      ],
      "text/plain": [
       "<IPython.core.display.Markdown object>"
      ]
     },
     "metadata": {},
     "output_type": "display_data"
    }
   ],
   "source": [
    "eq5=Eq(v_p,omega_p*r_p)\n",
    "display_eq(eq5, 'Equation 5')"
   ]
  },
  {
   "attachments": {},
   "cell_type": "markdown",
   "metadata": {},
   "source": [
    "# Solving the system of equations\n",
    "\n",
    "We now have 5 equations and 5 unknowns. We can solve the system using a computer algebra system (as is done in this Jupyter notebook) or solve it manually as follows."
   ]
  },
  {
   "cell_type": "code",
   "execution_count": 7,
   "metadata": {},
   "outputs": [],
   "source": [
    "sols = solve([eq1, eq2, eq3, eq4, eq5], [omega_wi, omega_p, omega_wf, J_w, J_h], dict=True)[0]\n"
   ]
  },
  {
   "attachments": {},
   "cell_type": "markdown",
   "metadata": {},
   "source": [
    "Rearrange [Equation 4](#equation-4) to get the wheel's final rotational velocity, $\\omega_{wf}$, in terms of $v_p$ and $r_w$:"
   ]
  },
  {
   "cell_type": "code",
   "execution_count": 8,
   "metadata": {},
   "outputs": [
    {
     "data": {
      "text/markdown": [
       "<div style=\"text-align: center\">\n",
       "\n",
       "#### Final wheel rotational velocity\n",
       "\n",
       "</div>\n",
       "\n",
       "\\begin{equation}\n",
       "\\omega_{wf} = \\frac{2 v_{p}}{r_{w}} \\end{equation}"
      ],
      "text/plain": [
       "<IPython.core.display.Markdown object>"
      ]
     },
     "metadata": {},
     "output_type": "display_data"
    }
   ],
   "source": [
    "eq_omega_wf = Eq(omega_wf, sols[omega_wf])\n",
    "display_eq(eq_omega_wf, \"Final wheel rotational velocity\")"
   ]
  },
  {
   "attachments": {},
   "cell_type": "markdown",
   "metadata": {},
   "source": [
    "Rearrange [Equation 5](#equation-5) to get the projectile's rotational velocity, $\\omega_p$, in terms of $v_p$ and $r_p$:"
   ]
  },
  {
   "cell_type": "code",
   "execution_count": 9,
   "metadata": {},
   "outputs": [
    {
     "data": {
      "text/markdown": [
       "<div style=\"text-align: center\">\n",
       "\n",
       "#### Projectile rotational velocity\n",
       "\n",
       "</div>\n",
       "\n",
       "\\begin{equation}\n",
       "\\omega_{p} = \\frac{v_{p}}{r_{p}} \\end{equation}"
      ],
      "text/plain": [
       "<IPython.core.display.Markdown object>"
      ]
     },
     "metadata": {},
     "output_type": "display_data"
    }
   ],
   "source": [
    "display_eq(Eq(omega_p, sols[omega_p]), \"Projectile rotational velocity\")"
   ]
  },
  {
   "attachments": {},
   "cell_type": "markdown",
   "metadata": {},
   "source": [
    "\n",
    "Substitute $\\omega_p$ into [Equation 2](#Equation-2), divide both sides by $r_p$ and add the resulting equation to [Equation 1](#Equation-1) to get an equation that can be solved for $J_w$:"
   ]
  },
  {
   "cell_type": "code",
   "execution_count": 10,
   "metadata": {},
   "outputs": [
    {
     "data": {
      "text/markdown": [
       "<div style=\"text-align: center\">\n",
       "\n",
       "#### Impulse from the wheel\n",
       "\n",
       "</div>\n",
       "\n",
       "\\begin{equation}\n",
       "J_{w} = \\frac{I_{p} v_{p} + m_{p} v_{p} r_{p}^{2}}{2 r_{p}^{2}} \\end{equation}"
      ],
      "text/plain": [
       "<IPython.core.display.Markdown object>"
      ]
     },
     "metadata": {},
     "output_type": "display_data"
    }
   ],
   "source": [
    "display_eq(Eq(J_w, sols[J_w]), \"Impulse from the wheel\")"
   ]
  },
  {
   "attachments": {},
   "cell_type": "markdown",
   "metadata": {},
   "source": [
    "Substitute the above formulas for $J_w$ and $\\omega_{wf}$ into [Equation 3](#Equation-3) and solve for the wheel's initial rotational velocity, $\\omega_{wi}$:"
   ]
  },
  {
   "cell_type": "code",
   "execution_count": 11,
   "metadata": {},
   "outputs": [
    {
     "data": {
      "text/markdown": [
       "<div style=\"text-align: center\">\n",
       "\n",
       "#### Initial wheel rotational velocity\n",
       "\n",
       "</div>\n",
       "\n",
       "\\begin{equation}\n",
       "\\omega_{wi} = \\frac{v_{p} \\left(I_{p} r_{w}^{2} + 4 I_{w} r_{p}^{2} + m_{p} r_{p}^{2} r_{w}^{2}\\right)}{2 I_{w} r_{p}^{2} r_{w}} \\end{equation}"
      ],
      "text/plain": [
       "<IPython.core.display.Markdown object>"
      ]
     },
     "metadata": {},
     "output_type": "display_data"
    }
   ],
   "source": [
    "eq_omega_wi = Eq(omega_wi, separatevars(sols[omega_wi]))\n",
    "display_eq(eq_omega_wi, \"Initial wheel rotational velocity\")"
   ]
  },
  {
   "attachments": {},
   "cell_type": "markdown",
   "metadata": {},
   "source": [
    "Note that the initial wheel rotational velocity is the projectile velocity multiplied by a constant factor that depends on the physical properties of the wheel and the projectile.\n",
    "\n",
    "We can also compute the ratio of the wheel's initial and final rotational velocities. Let's call that the wheel velocity ratio.\n"
   ]
  },
  {
   "cell_type": "code",
   "execution_count": 12,
   "metadata": {},
   "outputs": [
    {
     "data": {
      "text/markdown": [
       "<div style=\"text-align: center\">\n",
       "\n",
       "#### Wheel velocity ratio\n",
       "\n",
       "</div>\n",
       "\n",
       "\\begin{equation}\n",
       "\\frac{\\omega_{wi}}{\\omega_{wf}} \\end{equation}"
      ],
      "text/plain": [
       "<IPython.core.display.Markdown object>"
      ]
     },
     "metadata": {},
     "output_type": "display_data"
    }
   ],
   "source": [
    "wheel_velocity_ratio = symbols(\"\\\\frac{\\\\omega_{wi}}{\\\\omega_{wf}}\", real=True, finite=True, positive=True)\n",
    "eq_wheel_velocity_ratio = Eq(wheel_velocity_ratio, omega_wi / omega_wf)\n",
    "display_eq(wheel_velocity_ratio, \"Wheel velocity ratio\")"
   ]
  },
  {
   "attachments": {},
   "cell_type": "markdown",
   "metadata": {},
   "source": [
    "Substituting the formula for initial and final wheel velocity gives:\n"
   ]
  },
  {
   "cell_type": "code",
   "execution_count": 13,
   "metadata": {},
   "outputs": [
    {
     "data": {
      "text/markdown": [
       "<div style=\"text-align: center\">\n",
       "\n",
       "#### Wheel velocity ratio\n",
       "\n",
       "</div>\n",
       "\n",
       "\\begin{equation}\n",
       "\\frac{\\omega_{wi}}{\\omega_{wf}} = 1 + \\left(m_{p} + \\frac{I_{p}}{r_{p}^{2}}\\right) \\frac{r_{w}^{2}}{4 I_{w}} \\end{equation}"
      ],
      "text/plain": [
       "<IPython.core.display.Markdown object>"
      ]
     },
     "metadata": {},
     "output_type": "display_data"
    }
   ],
   "source": [
    "wheel_velocity_ratio_expanded = solve([eq_omega_wi, eq_omega_wf, eq_wheel_velocity_ratio], [wheel_velocity_ratio, omega_wi, omega_wf], dict=True)[0][wheel_velocity_ratio]\n",
    "eq_wheel_velocity_ratio_expanded = Eq(wheel_velocity_ratio, wheel_velocity_ratio_expanded)\n",
    "display_eq(Eq(wheel_velocity_ratio, 1+UnevaluatedExpr(r_w**2/(4*I_w))*simplify((wheel_velocity_ratio_expanded-1)/(r_w**2/(4*I_w)))), \"Wheel velocity ratio\")"
   ]
  },
  {
   "cell_type": "markdown",
   "metadata": {},
   "source": [
    "\n",
    "\n",
    "The moment of inertia of an axially symmetric object varies linearly with it's mass and the square of it's radius. So $I=k m r^2$ for some $k$ which will call the *shape factor* because it depends on the shape of the object. For a solid cylinder, $k=1/2$. For a solid sphere, $k=2/5$. For more examples, see [this list](https://en.wikipedia.org/wiki/List_of_moments_of_inertia).\n",
    "\n",
    "Let's define $I_w$, and $I_p$ as follows:"
   ]
  },
  {
   "cell_type": "code",
   "execution_count": 14,
   "metadata": {},
   "outputs": [
    {
     "data": {
      "text/markdown": [
       "<div style=\"text-align: center\">\n",
       "\n",
       "#### Equation 6\n",
       "\n",
       "</div>\n",
       "\n",
       "\\begin{equation}\n",
       "I_{p} = k_{p} m_{p} r_{p}^{2} \\end{equation}"
      ],
      "text/plain": [
       "<IPython.core.display.Markdown object>"
      ]
     },
     "metadata": {},
     "output_type": "display_data"
    },
    {
     "data": {
      "text/markdown": [
       "<div style=\"text-align: center\">\n",
       "\n",
       "#### Equation 7\n",
       "\n",
       "</div>\n",
       "\n",
       "\\begin{equation}\n",
       "I_{w} = k_{w} m_{w} r_{w}^{2} \\end{equation}"
      ],
      "text/plain": [
       "<IPython.core.display.Markdown object>"
      ]
     },
     "metadata": {},
     "output_type": "display_data"
    }
   ],
   "source": [
    "k_p = symbols(\"k_p\", real=True, finite=True, positive=True)\n",
    "m_p = symbols(\"m_p\", real=True, finite=True, positive=True)\n",
    "eq6 = Eq(I_p, k_p*m_p*r_p**2)\n",
    "display_eq(eq6, \"Equation 6\")\n",
    "\n",
    "k_w = symbols(\"k_w\", real=True, finite=True, positive=True)\n",
    "m_w = symbols(\"m_w\", real=True, finite=True, positive=True)\n",
    "eq7 = Eq(I_w, k_w*m_w*r_w**2)\n",
    "display_eq(eq7, \"Equation 7\")\n"
   ]
  },
  {
   "cell_type": "code",
   "execution_count": 15,
   "metadata": {},
   "outputs": [
    {
     "data": {
      "text/markdown": [
       "<div style=\"text-align: center\">\n",
       "\n",
       "#### Initial wheel rotational velocity with shape factors\n",
       "\n",
       "</div>\n",
       "\n",
       "\\begin{equation}\n",
       "\\omega_{wi} = \\frac{2v_p}{r_w} \\left(1 + \\frac{1+k_p}{4k_w} \\frac{m_p}{m_w}\\right) \\end{equation}"
      ],
      "text/plain": [
       "<IPython.core.display.Markdown object>"
      ]
     },
     "metadata": {},
     "output_type": "display_data"
    },
    {
     "data": {
      "text/markdown": [
       "<div style=\"text-align: center\">\n",
       "\n",
       "#### Wheel velocity ratio with shape factors\n",
       "\n",
       "</div>\n",
       "\n",
       "\\begin{equation}\n",
       "\\frac{\\omega_{wi}}{\\omega_{wf}} = 1 + \\frac{1+k_p}{4k_w} \\frac{m_p}{m_w} \\end{equation}"
      ],
      "text/plain": [
       "<IPython.core.display.Markdown object>"
      ]
     },
     "metadata": {},
     "output_type": "display_data"
    }
   ],
   "source": [
    "mass_ratio = symbols(\"\\\\frac{m_p}{m_w}\", real=True, finite=True, positive=True)\n",
    "eq_mass_ratio = Eq(mass_ratio, m_p/m_w)\n",
    "\n",
    "one_plus_k_p = symbols(\"(1+k_{p})\", real=True, finite=True, positive=True)\n",
    "eq_one_plus_k_p = Eq(one_plus_k_p, 1+k_p)\n",
    "\n",
    "omega_wi_k = solve([eq_omega_wi, eq6, eq7, eq_mass_ratio, eq_one_plus_k_p], [omega_wi, I_p, I_w, m_p, m_w, k_p, k_w], dict=True)[0][omega_wi]\n",
    "eq_omega_wi_k = Eq(omega_wi, omega_wi_k)\n",
    "\n",
    "one_plus_k_p_over_4k_w = symbols(\"\\\\frac{1+k_p}{4k_w}\", real=True, finite=True, positive=True)\n",
    "eq_one_plus_k_p_over_4k_w = Eq(one_plus_k_p_over_4k_w, one_plus_k_p/(4*k_w))\n",
    "eq_omega_wi_k = Eq(omega_wi, solve([eq_omega_wi_k, eq_one_plus_k_p_over_4k_w], [omega_wi, k_p, k_w], dict=True)[0][omega_wi])\n",
    "\n",
    "two_v_p_over_r_w = symbols(\"\\\\frac{2v_p}{r_w}\", real=True, finite=True, positive=True)\n",
    "eq_omega_wi_k = Eq(omega_wi, simplify(solve([eq_omega_wi_k, Eq(two_v_p_over_r_w, 2*v_p/r_w)], [omega_wi, k_p, k_w, v_p], dict=True)[0][omega_wi]))\n",
    "display_eq(eq_omega_wi_k, \"Initial wheel rotational velocity with shape factors\")\n",
    "\n",
    "eq_wheel_velocity_ratio_k = Eq(wheel_velocity_ratio, expand(solve([eq_wheel_velocity_ratio_expanded, eq6, eq7, eq_mass_ratio, eq_one_plus_k_p], [wheel_velocity_ratio, I_p, I_w, m_p, k_p], dict=True)[0][wheel_velocity_ratio]))\n",
    "eq_wheel_velocity_ratio_k = Eq(wheel_velocity_ratio, solve([eq_wheel_velocity_ratio_k, eq_one_plus_k_p_over_4k_w], [wheel_velocity_ratio, k_w], dict=True)[0][wheel_velocity_ratio])\n",
    "display_eq(eq_wheel_velocity_ratio_k, \"Wheel velocity ratio with shape factors\")\n"
   ]
  },
  {
   "attachments": {},
   "cell_type": "markdown",
   "metadata": {},
   "source": [
    "If we assume a solid cylindrical shooter wheel (i.e. $k_w=1/2$) and a solid spherical projectile (i.e. $k_p=2/5$) we get the following:"
   ]
  },
  {
   "cell_type": "code",
   "execution_count": 16,
   "metadata": {},
   "outputs": [
    {
     "data": {
      "text/markdown": [
       "<div style=\"text-align: center\">\n",
       "\n",
       "#### Initial wheel rotational velocity with cylindrical wheel and spherical ball\n",
       "\n",
       "</div>\n",
       "\n",
       "\\begin{equation}\n",
       "\\omega_{wi} = \\frac{2v_p}{r_w} \\left(1 + \\frac{15}{16} \\frac{m_p}{m_w}\\right) \\end{equation}"
      ],
      "text/plain": [
       "<IPython.core.display.Markdown object>"
      ]
     },
     "metadata": {},
     "output_type": "display_data"
    },
    {
     "data": {
      "text/markdown": [
       "<div style=\"text-align: center\">\n",
       "\n",
       "#### Wheel velocity ratio with cylindrical wheel and spherical ball\n",
       "\n",
       "</div>\n",
       "\n",
       "\\begin{equation}\n",
       "\\frac{\\omega_{wi}}{\\omega_{wf}} = 1 + \\frac{15}{16} \\frac{m_p}{m_w} \\end{equation}"
      ],
      "text/plain": [
       "<IPython.core.display.Markdown object>"
      ]
     },
     "metadata": {},
     "output_type": "display_data"
    }
   ],
   "source": [
    "eq8=Eq(k_p, Rational(1, 2))\n",
    "eq9=Eq(k_w, Rational(2, 5))\n",
    "one_plus_k_p_over_4k_w_cylinder_sphere = solve([eq_one_plus_k_p_over_4k_w, eq_one_plus_k_p, eq8, eq9], [one_plus_k_p_over_4k_w, one_plus_k_p, k_p, k_w], dict=True)[0][one_plus_k_p_over_4k_w]\n",
    "\n",
    "omega_wi_cylinder_sphere=factor(solve([eq_omega_wi_k, Eq(one_plus_k_p_over_4k_w, one_plus_k_p_over_4k_w_cylinder_sphere)], [one_plus_k_p_over_4k_w, omega_wi], dict=True)[0][omega_wi], [two_v_p_over_r_w]).subs(15*mass_ratio/16, Mul(UnevaluatedExpr(Rational(15, 16)), mass_ratio, evaluate=False))\n",
    "display_eq(Eq(omega_wi, omega_wi_cylinder_sphere), \"Initial wheel rotational velocity with cylindrical wheel and spherical ball\")\n",
    "\n",
    "wheel_velocity_ratio_cylinder_sphere=solve([eq_wheel_velocity_ratio_k, Eq(one_plus_k_p_over_4k_w, one_plus_k_p_over_4k_w_cylinder_sphere)], [one_plus_k_p_over_4k_w, wheel_velocity_ratio], dict=True)[0][wheel_velocity_ratio].subs(15*mass_ratio/16, Mul(UnevaluatedExpr(Rational(15, 16)), mass_ratio, evaluate=False))\n",
    "display_eq(Eq(wheel_velocity_ratio, wheel_velocity_ratio_cylinder_sphere), \"Wheel velocity ratio with cylindrical wheel and spherical ball\")\n"
   ]
  },
  {
   "cell_type": "code",
   "execution_count": 17,
   "metadata": {},
   "outputs": [
    {
     "data": {
      "text/html": [
       "<script>\n",
       "    var code_show = true; \n",
       "    function code_toggle() {\n",
       "        var selected_elements = document.querySelectorAll('.jp-CodeCell > .jp-Cell-inputWrapper, .jp-OutputPrompt');\n",
       "        selected_elements.forEach( (e) => { e.style.display = code_show ? null : \"none\"; });\n",
       "        code_show = !code_show;\n",
       "    } \n",
       "    document.onreadystatechange = () => {\n",
       "        if (document.readyState === \"complete\") {\n",
       "            code_toggle();\n",
       "        }\n",
       "    }\n",
       "    </script>\n",
       "    "
      ],
      "text/plain": [
       "<IPython.core.display.HTML object>"
      ]
     },
     "execution_count": 17,
     "metadata": {},
     "output_type": "execute_result"
    }
   ],
   "source": [
    "from IPython.core.display import HTML\n",
    "HTML('''<script>\n",
    "    var code_show = true; \n",
    "    function code_toggle() {\n",
    "        var selected_elements = document.querySelectorAll('.jp-CodeCell > .jp-Cell-inputWrapper, .jp-OutputPrompt');\n",
    "        selected_elements.forEach( (e) => { e.style.display = code_show ? null : \"none\"; });\n",
    "        code_show = !code_show;\n",
    "    } \n",
    "    document.onreadystatechange = () => {\n",
    "        if (document.readyState === \"complete\") {\n",
    "            code_toggle();\n",
    "        }\n",
    "    }\n",
    "    </script>\n",
    "    ''')"
   ]
  },
  {
   "attachments": {},
   "cell_type": "markdown",
   "metadata": {},
   "source": [
    "To toggle on/off the raw code, click <a href=\"javascript:code_toggle()\">here</a>."
   ]
  }
 ],
 "metadata": {
  "kernelspec": {
   "display_name": "Python 3 (ipykernel)",
   "language": "python",
   "name": "python3"
  },
  "language_info": {
   "codemirror_mode": {
    "name": "ipython",
    "version": 3
   },
   "file_extension": ".py",
   "mimetype": "text/x-python",
   "name": "python",
   "nbconvert_exporter": "python",
   "pygments_lexer": "ipython3",
   "version": "3.11.3"
  },
  "vscode": {
   "interpreter": {
    "hash": "e7370f93d1d0cde622a1f8e1c04877d8463912d04d973331ad4851f04de6915a"
   }
  }
 },
 "nbformat": 4,
 "nbformat_minor": 4
}
