{
 "cells": [
  {
   "cell_type": "code",
   "execution_count": 2,
   "metadata": {
    "slideshow": {
     "slide_type": "-"
    }
   },
   "outputs": [],
   "source": [
    "%matplotlib notebook\n",
    "from sympy import *\n",
    "import matplotlib.pyplot as plt\n",
    "from matplotlib import cm\n",
    "from mpl_toolkits.mplot3d import Axes3D\n",
    "import numpy as np\n",
    "from ipywidgets import interact, interactive, fixed, interact_manual\n",
    "import ipywidgets as widgets\n",
    "init_printing()"
   ]
  },
  {
   "cell_type": "markdown",
   "metadata": {
    "slideshow": {
     "slide_type": "-"
    }
   },
   "source": [
    "The goal is to determine the minimum time required for our robot to go from stopped at one position to stopped at another position some fixed distance away. One step  in figuring that out is determining the maximum acceleration, $a$, the robot can achieve at each point along the way. That acceleration depends on the traction force provided by the wheel $F_{traction}$, and the robot's mass $m$, according to Newton's First Law, **(1)**:"
   ]
  },
  {
   "cell_type": "code",
   "execution_count": 12,
   "metadata": {
    "slideshow": {
     "slide_type": "-"
    },
    "tags": [
     "(1)"
    ]
   },
   "outputs": [
    {
     "data": {
      "image/png": "[encoded data removed]",
      "text/latex": [
       "$\\displaystyle F_{traction} = a m$"
      ],
      "text/plain": [
       "F_traction = a⋅m"
      ]
     },
     "execution_count": 12,
     "metadata": {},
     "output_type": "execute_result"
    }
   ],
   "source": [
    "a, F_traction = symbols('a F_traction', real=True, finite=True, nonzero=True)\n",
    "m = symbols('m', real=True, finite=True, positive=True)\n",
    "rel1 = Eq(F_traction, m*a)\n",
    "rel1"
   ]
  },
  {
   "cell_type": "markdown",
   "metadata": {
    "slideshow": {
     "slide_type": "-"
    }
   },
   "source": [
    "Solving for acceleration gives **(2)**:"
   ]
  },
  {
   "cell_type": "code",
   "execution_count": 13,
   "metadata": {
    "slideshow": {
     "slide_type": "-"
    }
   },
   "outputs": [
    {
     "data": {
      "image/png": "[encoded data removed]",
      "text/latex": [
       "$\\displaystyle a = \\frac{F_{traction}}{m}$"
      ],
      "text/plain": [
       "    F_traction\n",
       "a = ──────────\n",
       "        m     "
      ]
     },
     "metadata": {},
     "output_type": "display_data"
    }
   ],
   "source": [
    "rel2=solveset(rel1,a).as_relational(a)\n",
    "display(rel2)"
   ]
  },
  {
   "cell_type": "markdown",
   "metadata": {},
   "source": [
    "The maximum traction before wheels slip is determined by the coefficient of static friction of the wheel with the floor ($\\mu$) and the normal force of the carpet on the wheels ($F_{normal}$) according to **(3)**:"
   ]
  },
  {
   "cell_type": "code",
   "execution_count": 14,
   "metadata": {},
   "outputs": [
    {
     "data": {
      "image/png": "[encoded data removed]",
      "text/latex": [
       "$\\displaystyle F_{traction} \\leq F_{normal} \\mu$"
      ],
      "text/plain": [
       "F_traction ≤ Fₙₒᵣₘₐₗ⋅μ"
      ]
     },
     "execution_count": 14,
     "metadata": {},
     "output_type": "execute_result"
    }
   ],
   "source": [
    "F_normal = symbols('F_normal', real=True, finite=True, nonzero=True)\n",
    "mu = symbols('mu', real=True, finite=True, positive=True)\n",
    "rel3 = Le(F_traction, mu*F_normal)\n",
    "rel3"
   ]
  },
  {
   "cell_type": "markdown",
   "metadata": {},
   "source": [
    "On a flat field, $F_{normal}$ is the the force of gravity on the mass of the robot, as given by **(4)**:"
   ]
  },
  {
   "cell_type": "code",
   "execution_count": 15,
   "metadata": {},
   "outputs": [
    {
     "data": {
      "image/png": "[encoded data removed]",
      "text/latex": [
       "$\\displaystyle F_{normal} = g m$"
      ],
      "text/plain": [
       "Fₙₒᵣₘₐₗ = g⋅m"
      ]
     },
     "execution_count": 15,
     "metadata": {},
     "output_type": "execute_result"
    }
   ],
   "source": [
    "g = symbols('g', real=True, finite=True, nonzero=True)\n",
    "rel4 = Eq(F_normal, m*g)\n",
    "rel4"
   ]
  },
  {
   "cell_type": "markdown",
   "metadata": {},
   "source": [
    "Substituting (4) into (3) gives **(5)**:"
   ]
  },
  {
   "cell_type": "code",
   "execution_count": 16,
   "metadata": {},
   "outputs": [
    {
     "data": {
      "image/png": "[encoded data removed]",
      "text/latex": [
       "$\\displaystyle F_{traction} \\leq g m \\mu$"
      ],
      "text/plain": [
       "F_traction ≤ g⋅m⋅μ"
      ]
     },
     "execution_count": 16,
     "metadata": {},
     "output_type": "execute_result"
    }
   ],
   "source": [
    "rel5=rel3.subs(rel4.lhs,rel4.rhs)\n",
    "rel5"
   ]
  },
  {
   "cell_type": "markdown",
   "metadata": {},
   "source": [
    "$F_{traction}$ depends on the torque ($\\tau$) provided by the motors/gearboxes and the radius of the wheels, $r$ according to **(6)**."
   ]
  },
  {
   "cell_type": "code",
   "execution_count": 17,
   "metadata": {},
   "outputs": [
    {
     "data": {
      "image/png": "[encoded data removed]",
      "text/latex": [
       "$\\displaystyle \\tau = F_{traction} r$"
      ],
      "text/plain": [
       "τ = F_traction⋅r"
      ]
     },
     "execution_count": 17,
     "metadata": {},
     "output_type": "execute_result"
    }
   ],
   "source": [
    "r = symbols(\"r\", real=True, finite=True, positive=True)\n",
    "tau = symbols(\"tau\", real=True, finite=True, nonzero=True)\n",
    "rel6 = Eq(tau,F_traction*r)\n",
    "rel6"
   ]
  },
  {
   "cell_type": "markdown",
   "metadata": {},
   "source": [
    "For simplicity, we'll model the robot as having one wheel powered by a gearmotor equivalent to all of the motors and gearboxes on a real robot.\n",
    "\n",
    "To find the maximum torque to avoid slipping, we substitute (5) into (6) to get **(7)**:"
   ]
  },
  {
   "cell_type": "code",
   "execution_count": 18,
   "metadata": {},
   "outputs": [
    {
     "data": {
      "image/png": "[encoded data removed]",
      "text/latex": [
       "$\\displaystyle \\tau \\leq g m \\mu r$"
      ],
      "text/plain": [
       "τ ≤ g⋅m⋅μ⋅r"
      ]
     },
     "execution_count": 18,
     "metadata": {},
     "output_type": "execute_result"
    }
   ],
   "source": [
    "rel7 = Le(rel6.lhs, rel6.rhs.subs(rel5.lhs, rel5.rhs))\n",
    "rel7"
   ]
  },
  {
   "cell_type": "markdown",
   "metadata": {},
   "source": [
    "The torque varies directly with the current flowing through the motor windings $I_m$ according to the gearmotor's torque constant $K_T$, per **(8)**:"
   ]
  },
  {
   "cell_type": "code",
   "execution_count": 19,
   "metadata": {},
   "outputs": [
    {
     "data": {
      "image/png": "[encoded data removed]",
      "text/latex": [
       "$\\displaystyle \\tau = I_{m} K_{T}$"
      ],
      "text/plain": [
       "τ = Iₘ⋅K_T"
      ]
     },
     "execution_count": 19,
     "metadata": {},
     "output_type": "execute_result"
    }
   ],
   "source": [
    "K_T = symbols(\"K_T\", real=True, finite=True, positive=True)\n",
    "I_m = symbols(\"I_m\", real=True, finite=True, nonzero=True)\n",
    "rel8 = Eq(tau, K_T*I_m)\n",
    "rel8"
   ]
  },
  {
   "cell_type": "markdown",
   "metadata": {},
   "source": [
    "To find the limit on $I_m$ to avoid slipping the wheels we solve (8) for $I_m$ and substitute the limit on $\\tau$ from (7) to get **(9)**"
   ]
  },
  {
   "cell_type": "code",
   "execution_count": 20,
   "metadata": {},
   "outputs": [
    {
     "data": {
      "image/png": "[encoded data removed]",
      "text/latex": [
       "$\\displaystyle I_{m} \\leq \\frac{g m \\mu r}{K_{T}}$"
      ],
      "text/plain": [
       "     g⋅m⋅μ⋅r\n",
       "Iₘ ≤ ───────\n",
       "       K_T  "
      ]
     },
     "execution_count": 20,
     "metadata": {},
     "output_type": "execute_result"
    }
   ],
   "source": [
    "rel9=solveset(rel8,I_m).as_relational(I_m)\n",
    "rel9=Le(rel9.lhs, rel9.rhs.subs(rel7.lhs, rel7.rhs))\n",
    "rel9"
   ]
  },
  {
   "cell_type": "markdown",
   "metadata": {},
   "source": [
    "$I_m$ varies directly with the voltage across the windings ($V_m$) and inversely with the resistance of the windings ($R_m$), in accordance with Ohm's Law **(10)**:"
   ]
  },
  {
   "cell_type": "code",
   "execution_count": 21,
   "metadata": {},
   "outputs": [
    {
     "data": {
      "image/png": "[encoded data removed]",
      "text/latex": [
       "$\\displaystyle I_{m} = \\frac{V_{m}}{R_{m}}$"
      ],
      "text/plain": [
       "     Vₘ\n",
       "Iₘ = ──\n",
       "     Rₘ"
      ]
     },
     "execution_count": 21,
     "metadata": {},
     "output_type": "execute_result"
    }
   ],
   "source": [
    "V_m = symbols(\"V_m\", real=True, finite=True, nonzero=True)\n",
    "R_m = symbols(\"R_m\", real=True, finite=True, positive=True)\n",
    "rel10 = Eq(I_m, V_m/R_m)\n",
    "rel10"
   ]
  },
  {
   "cell_type": "markdown",
   "metadata": {},
   "source": [
    "$V_m$ is the voltage supplied by the motor controller ($V_c$) minus the back voltage caused by the motor acting like a generator. The back voltage varies directly with the speed of the gearmotor ($\\omega$) divided by the gearmotor's speed constant ($K_v$). That gives **(11)**: "
   ]
  },
  {
   "cell_type": "markdown",
   "metadata": {},
   "source": [
    "The maximum torque (and thus maximum acceleration) at any time is determined by:\n",
    "\n",
    "* Traction. Too much torque and the wheels slip.\n",
    "* Maximum current that can flow from the motor controllers through the windings of motors. This may be limited by the specs for the controllers on the motors.\n",
    "* Maximum current that can flow into the motors. This can be limited by the breakers on the circuits that supply power to the motors, the main breaker, or the current draw that the battery can support."
   ]
  },
  {
   "cell_type": "code",
   "execution_count": 22,
   "metadata": {},
   "outputs": [
    {
     "data": {
      "image/png": "[encoded data removed]",
      "text/latex": [
       "$\\displaystyle V_{m} = V_{c} - \\frac{\\omega}{K_{v}}$"
      ],
      "text/plain": [
       "           ω \n",
       "Vₘ = V_c - ──\n",
       "           Kᵥ"
      ]
     },
     "execution_count": 22,
     "metadata": {},
     "output_type": "execute_result"
    }
   ],
   "source": [
    "w = symbols(\"omega\", real=True, finite=True)\n",
    "K_v = symbols(\"K_v\", real=True, finite=True, positive=True)\n",
    "V_c = symbols(\"V_c\", real=True, finite=True)\n",
    "rel11 = Eq(V_m, V_c-w/K_v)\n",
    "rel11"
   ]
  },
  {
   "cell_type": "markdown",
   "metadata": {},
   "source": [
    "$V_c$ is a percentage ($p$) of the voltage at the motor controller input ($V_{in}$), per **(12)**:"
   ]
  },
  {
   "cell_type": "code",
   "execution_count": 23,
   "metadata": {},
   "outputs": [
    {
     "data": {
      "image/png": "[encoded data removed]",
      "text/latex": [
       "$\\displaystyle V_{c} = V_{in} p$"
      ],
      "text/plain": [
       "V_c = Vᵢₙ⋅p"
      ]
     },
     "execution_count": 23,
     "metadata": {},
     "output_type": "execute_result"
    }
   ],
   "source": [
    "V_in, p = symbols(\"V_in p\", real=True, finite=True, positive=True)\n",
    "rel12 = Eq(V_c, p*V_in)\n",
    "rel12"
   ]
  },
  {
   "cell_type": "markdown",
   "metadata": {},
   "source": [
    "In addition, the current flowing into the motor controller ($I_{in}$) is the same percentage of the current flowing through the motor windings ($I_m$). That is **(13)**:"
   ]
  },
  {
   "cell_type": "code",
   "execution_count": 24,
   "metadata": {},
   "outputs": [
    {
     "data": {
      "image/png": "[encoded data removed]",
      "text/latex": [
       "$\\displaystyle I_{in} = I_{m} p$"
      ],
      "text/plain": [
       "Iᵢₙ = Iₘ⋅p"
      ]
     },
     "execution_count": 24,
     "metadata": {},
     "output_type": "execute_result"
    }
   ],
   "source": [
    "I_in = symbols(\"I_in\", real=True, finite=True)\n",
    "rel13 = Eq(I_in, p*I_m)\n",
    "rel13"
   ]
  },
  {
   "cell_type": "markdown",
   "metadata": {},
   "source": [
    "The current flowing into the motor controller is also flowing through the battery, battery cables, PDP, and the motor controller power wires. All of those have a combined resistance $R_{sys}$ and the current flowing through that resistance results in a voltage difference between the voltage at the battery, $V_{bat}$, and the voltage at the input to the motor controller, $V_{in}$ **(14)**:"
   ]
  },
  {
   "cell_type": "code",
   "execution_count": 25,
   "metadata": {},
   "outputs": [
    {
     "data": {
      "image/png": "[encoded data removed]",
      "text/latex": [
       "$\\displaystyle V_{bat} - V_{in} = I_{in} R_{sys}$"
      ],
      "text/plain": [
       "V_bat - Vᵢₙ = Iᵢₙ⋅R_sys"
      ]
     },
     "execution_count": 25,
     "metadata": {},
     "output_type": "execute_result"
    }
   ],
   "source": [
    "V_bat = symbols(\"V_bat\", real=True, finite=True, nonnegative=True)\n",
    "R_sys = symbols(\"R_sys\", real=True, finite=True, positive=True)\n",
    "rel14 = Eq(V_bat-V_in, I_in*R_sys)\n",
    "rel14"
   ]
  },
  {
   "cell_type": "markdown",
   "metadata": {},
   "source": [
    "Combining (10) through (14), we can find a formula for $I_m$ in terms of $p$, $\\omega$, and the various constants **(15)**:"
   ]
  },
  {
   "cell_type": "code",
   "execution_count": 26,
   "metadata": {},
   "outputs": [
    {
     "data": {
      "image/png": "[encoded data removed]",
      "text/latex": [
       "$\\displaystyle V_{in} = - I_{in} R_{sys} + V_{bat}$"
      ],
      "text/plain": [
       "Vᵢₙ = -Iᵢₙ⋅R_sys + V_bat"
      ]
     },
     "metadata": {},
     "output_type": "display_data"
    },
    {
     "data": {
      "image/png": "[encoded data removed]",
      "text/latex": [
       "$\\displaystyle V_{in} = - I_{m} R_{sys} p + V_{bat}$"
      ],
      "text/plain": [
       "Vᵢₙ = -Iₘ⋅R_sys⋅p + V_bat"
      ]
     },
     "metadata": {},
     "output_type": "display_data"
    },
    {
     "data": {
      "image/png": "[encoded data removed]",
      "text/latex": [
       "$\\displaystyle V_{c} = p \\left(- I_{m} R_{sys} p + V_{bat}\\right)$"
      ],
      "text/plain": [
       "V_c = p⋅(-Iₘ⋅R_sys⋅p + V_bat)"
      ]
     },
     "metadata": {},
     "output_type": "display_data"
    },
    {
     "data": {
      "image/png": "[encoded data removed]",
      "text/latex": [
       "$\\displaystyle V_{m} = p \\left(- I_{m} R_{sys} p + V_{bat}\\right) - \\frac{\\omega}{K_{v}}$"
      ],
      "text/plain": [
       "                               ω \n",
       "Vₘ = p⋅(-Iₘ⋅R_sys⋅p + V_bat) - ──\n",
       "                               Kᵥ"
      ]
     },
     "metadata": {},
     "output_type": "display_data"
    },
    {
     "data": {
      "image/png": "[encoded data removed]",
      "text/latex": [
       "$\\displaystyle I_{m} = \\frac{p \\left(- I_{m} R_{sys} p + V_{bat}\\right) - \\frac{\\omega}{K_{v}}}{R_{m}}$"
      ],
      "text/plain": [
       "                               ω \n",
       "     p⋅(-Iₘ⋅R_sys⋅p + V_bat) - ──\n",
       "                               Kᵥ\n",
       "Iₘ = ────────────────────────────\n",
       "                  Rₘ             "
      ]
     },
     "metadata": {},
     "output_type": "display_data"
    },
    {
     "data": {
      "image/png": "[encoded data removed]",
      "text/latex": [
       "$\\displaystyle I_{m} = \\frac{K_{v} V_{bat} p - \\omega}{K_{v} \\left(R_{m} + R_{sys} p^{2}\\right)}$"
      ],
      "text/plain": [
       "       Kᵥ⋅V_bat⋅p - ω  \n",
       "Iₘ = ──────────────────\n",
       "        ⎛            2⎞\n",
       "     Kᵥ⋅⎝Rₘ + R_sys⋅p ⎠"
      ]
     },
     "metadata": {},
     "output_type": "display_data"
    }
   ],
   "source": [
    "rel15_1 = solveset(rel14,V_in).as_relational(V_in)\n",
    "display(rel15_1)\n",
    "rel15_2 = rel15_1.subs(rel13.lhs, rel13.rhs)\n",
    "display(rel15_2)\n",
    "rel15_3 = rel12.subs(rel15_2.lhs,rel15_2.rhs)\n",
    "display(rel15_3)\n",
    "rel15_4 = rel11.subs(rel15_3.lhs,rel15_3.rhs)\n",
    "display(rel15_4)\n",
    "rel15_5 = rel10.subs(rel15_4.lhs,rel15_4.rhs)\n",
    "display(rel15_5)\n",
    "rel15_6 = solveset(rel15_5,I_m).as_relational(I_m)\n",
    "display(rel15_6)"
   ]
  },
  {
   "cell_type": "markdown",
   "metadata": {},
   "source": [
    "To simplify future algebra, let's introduce a new variable, $\\omega_\\%$, which is the fraction of the speed that produces a back voltage of $V_{bat}$"
   ]
  },
  {
   "cell_type": "code",
   "execution_count": 27,
   "metadata": {},
   "outputs": [
    {
     "data": {
      "image/png": "[encoded data removed]",
      "text/latex": [
       "$\\displaystyle \\omega_\\% = \\frac{\\omega}{K_{v} V_{bat}}$"
      ],
      "text/plain": [
       "               ω    \n",
       "\\omega_\\% = ────────\n",
       "            Kᵥ⋅V_bat"
      ]
     },
     "metadata": {},
     "output_type": "display_data"
    }
   ],
   "source": [
    "w_f=symbols(\"\\\\omega_\\%\",real=True,finite=True)\n",
    "w_f_def=Eq(w_f,(w/K_v)/V_bat)\n",
    "display(w_f_def)"
   ]
  },
  {
   "cell_type": "markdown",
   "metadata": {},
   "source": [
    "Solving for $\\omega$ and substituting our definition for $\\omega_\\%$ into our equation for $I_m$ gives:"
   ]
  },
  {
   "cell_type": "code",
   "execution_count": 28,
   "metadata": {},
   "outputs": [
    {
     "data": {
      "image/png": "[encoded data removed]",
      "text/latex": [
       "$\\displaystyle \\omega = K_{v} V_{bat} \\omega_\\%$"
      ],
      "text/plain": [
       "ω = Kᵥ⋅V_bat⋅\\omega_\\%"
      ]
     },
     "metadata": {},
     "output_type": "display_data"
    },
    {
     "data": {
      "image/png": "[encoded data removed]",
      "text/latex": [
       "$\\displaystyle I_{m} = \\frac{V_{bat} \\left(- \\omega_\\% + p\\right)}{R_{m} + R_{sys} p^{2}}$"
      ],
      "text/plain": [
       "     V_bat⋅(-\\omega_\\% + p)\n",
       "Iₘ = ──────────────────────\n",
       "                     2     \n",
       "         Rₘ + R_sys⋅p      "
      ]
     },
     "metadata": {},
     "output_type": "display_data"
    }
   ],
   "source": [
    "w_from_w_f = solveset(w_f_def,w).as_relational(w)\n",
    "display(w_from_w_f)\n",
    "I_m_from_p_w_f = factor(rel15_6.subs(w_from_w_f.lhs, w_from_w_f.rhs))\n",
    "display(I_m_from_p_w_f)"
   ]
  },
  {
   "cell_type": "markdown",
   "metadata": {},
   "source": [
    "Here's a plot of $I_m$ against $\\omega_\\%$ and $p$ for $V_{bat}=12$ Volts."
   ]
  },
  {
   "cell_type": "code",
   "execution_count": 70,
   "metadata": {},
   "outputs": [
    {
     "data": {
      "application/vnd.jupyter.widget-view+json": {
       "model_id": "a2e4305c8b7246eba0984a1f6f761ac0",
       "version_major": 2,
       "version_minor": 0
      },
      "text/plain": [
       "interactive(children=(FloatSlider(value=5.0, description='\\\\(R_m\\\\)(\\\\(m\\\\Omega\\\\))', max=150.0, min=5.0, step…"
      ]
     },
     "metadata": {},
     "output_type": "display_data"
    }
   ],
   "source": [
    "plt.close('all')\n",
    "\n",
    "@interact(Rm_mohms=widgets.FloatSlider(min=5,max=150,step=1,description=r'\\(R_m\\)(\\(m\\Omega\\))'), \n",
    "          Rsys_mohms=widgets.FloatSlider(min=5,max=40,step=1,description=r'\\(R_{sys}\\)(\\(m\\Omega\\))'))\n",
    "def plot_I_m_surface(Rm_mohms=10,Rsys_mohms=20):\n",
    "    p = np.arange(-100, 100, 10)\n",
    "    w_percent = np.arange(0, 100, 10)\n",
    "    p, w_percent = np.meshgrid(p, w_percent)\n",
    "    I_m = 12*(p/100.0-w_percent/100.0)/(Rm_mohms/1000.0+Rsys_mohms/1000.0*(p/100)**2)\n",
    "    fig = plt.figure()\n",
    "    ax = Axes3D(fig)\n",
    "    ax.set_xlabel(r'$p$ (%)')\n",
    "    ax.set_ylabel(r'$\\omega_\\%$ (%)')\n",
    "    ax.set_zlabel(r'$I_m$ (Amps)')\n",
    "    ax.plot_surface(p, w_percent, I_m, rstride=1, cstride=1, cmap=cm.viridis)\n",
    "    plt.show()"
   ]
  },
  {
   "cell_type": "markdown",
   "metadata": {},
   "source": [
    "And here is a slice for a $\\omega_\\%$ that you provide:"
   ]
  },
  {
   "cell_type": "code",
   "execution_count": 67,
   "metadata": {},
   "outputs": [
    {
     "data": {
      "application/vnd.jupyter.widget-view+json": {
       "model_id": "3c3f5559baa44804b946b610c7b8a596",
       "version_major": 2,
       "version_minor": 0
      },
      "text/plain": [
       "interactive(children=(FloatSlider(value=0.0, description='\\\\(\\\\omega_\\\\%\\\\)(%)', step=5.0), FloatSlider(value=…"
      ]
     },
     "metadata": {},
     "output_type": "display_data"
    }
   ],
   "source": [
    "plt.close('all')\n",
    "\n",
    "@interact(w_percent=widgets.FloatSlider(min=0,max=100,step=5,description=r'\\(\\omega_\\%\\)(%)'), \n",
    "          Rm_mohms=widgets.FloatSlider(min=5,max=150,step=1,description=r'\\(R_m\\)(\\(m\\Omega\\))'), \n",
    "          Rsys_mohms=widgets.FloatSlider(min=5,max=40,step=1,description=r'\\(R_{sys}\\)(\\(m\\Omega\\))'))\n",
    "def plot_I_m_line(w_percent=0,Rm_mohms=10,Rsys_mohms=20):\n",
    "    p = np.arange(-100, 100, 10)\n",
    "    I_m = 12*(p/100.0-w_percent/100.0)/(Rm_mohms/1000.0+Rsys_mohms/1000.0*(p/100)**2)\n",
    "    fig = plt.figure()\n",
    "    plt.xlabel(r'$p$ (%)')\n",
    "    plt.ylabel(r'$I_m$ (Amps)')\n",
    "    plt.plot(p,I_m)\n",
    "    plt.show()"
   ]
  },
  {
   "cell_type": "markdown",
   "metadata": {},
   "source": [
    "To maximize acceleration, we need to maximize torque, and to maximize torque we need to maximize $I_m$ subject to various constraints. Before looking at the constraints, let's find the unconstrained maximum. First, set the derivative equal to 0:"
   ]
  },
  {
   "cell_type": "code",
   "execution_count": null,
   "metadata": {},
   "outputs": [],
   "source": [
    "dIm_dp=diff(I_m_from_p_w_f.rhs,p)\n",
    "display(Eq(diff(I_m,p,evaluate=false), dIm_dp))\n",
    "rel16=Eq(dIm_dp,0)\n",
    "display(rel16)\n",
    "rel16=Eq(factor(rel16.lhs),rel16.rhs)\n",
    "display(rel16)\n",
    "rel16=Eq(fraction(rel16.lhs)[0]/(-V_bat),rel16.rhs)\n",
    "rel16"
   ]
  },
  {
   "cell_type": "markdown",
   "metadata": {},
   "source": [
    "and solve for $p$ to find the stationary points:"
   ]
  },
  {
   "cell_type": "code",
   "execution_count": null,
   "metadata": {},
   "outputs": [],
   "source": [
    "sols = solveset(rel16,p)\n",
    "display(Eq(p,sols,evaluate=false))"
   ]
  },
  {
   "cell_type": "markdown",
   "metadata": {},
   "source": [
    "Next, find the second deriviative $d^2I_m/dp^2$:"
   ]
  },
  {
   "cell_type": "code",
   "execution_count": null,
   "metadata": {},
   "outputs": [],
   "source": [
    "d2Im_dp2=together(diff(dIm_dp,p))\n",
    "display(Eq(diff(I_m,p,p,evaluate=false),d2Im_dp2))"
   ]
  },
  {
   "cell_type": "markdown",
   "metadata": {},
   "source": [
    "and evaluate it at each of the stationary points to see if it is negative (indicating a maximum). Let's start by simplifying the inequality:"
   ]
  },
  {
   "cell_type": "code",
   "execution_count": null,
   "metadata": {},
   "outputs": [],
   "source": [
    "ineq=Lt(d2Im_dp2,0)\n",
    "display(ineq)\n",
    "\n",
    "# The denominator is always positive\n",
    "ineq=Lt(fraction(ineq.lhs)[0],0)\n",
    "display(ineq)\n",
    "\n",
    "# 2*R_sys*V_bat is always positive\n",
    "ineq=Lt(ineq.lhs/(2*R_sys*V_bat),0)\n",
    "display(ineq)\n",
    "\n",
    "ineq=Lt(factor(ineq.lhs),0)\n",
    "display(ineq)\n",
    "\n",
    "# first stationary point\n",
    "ineq0=Lt(together(ineq.lhs.subs(p,sols.args[0])),0)\n",
    "display(ineq0)\n",
    "\n",
    "# denominator is positive\n",
    "ineq0=Lt(fraction(ineq0.lhs)[0],0)\n",
    "display(ineq0)\n",
    "\n",
    "ineq0=Lt(factor(ineq0.lhs),0)\n",
    "display(ineq0)"
   ]
  },
  {
   "cell_type": "code",
   "execution_count": null,
   "metadata": {},
   "outputs": [],
   "source": [
    "# secondary stationary point\n",
    "ineq1=Lt(together(ineq.lhs.subs(p,sols.args[1])),0)\n",
    "display(ineq1)\n",
    "\n",
    "# denominator is positive\n",
    "ineq1=Lt(fraction(ineq1.lhs)[0],0)\n",
    "display(ineq1)\n",
    "\n",
    "ineq1=Lt(factor(ineq1.lhs),0)\n",
    "display(ineq1)\n",
    "\n",
    "ineq1=Gt(ineq1.lhs/(-2),0)\n",
    "display(ineq1)\n",
    "\n",
    "x, y=symbols(\"x y\", real=True, Finite=True)\n",
    "\n",
    "# Let x=sqrt(R_sys)*w_f\n",
    "ineq1=Gt(ineq1.lhs.subs(sqrt(R_sys)*w_f,x),0)\n",
    "display(ineq1)\n",
    "\n",
    "# Let y=sqrt(R_m+x**2)\n",
    "ineq1=Gt(ineq1.lhs.subs(sqrt(R_m+x**2),y),0)\n",
    "display(ineq1)\n",
    "\n",
    "# Factor\n",
    "ineq1=Gt(factor(ineq1.lhs),0)\n",
    "display(ineq1)\n",
    "\n",
    "# R_m+x**2 is always positive\n",
    "ineq1=Gt(ineq1.lhs/(R_m+x**2),0)\n",
    "display(ineq1)\n",
    "\n",
    "ineq1=Gt(ineq1.lhs+y,0+y)\n",
    "display(ineq1)\n",
    "\n",
    "ineq1=ineq1.subs(y,sqrt(R_m+x**2))\n",
    "display(ineq1)\n",
    "\n",
    "# Square both sides (allowed because both sides are positive)\n",
    "ineq1=Gt(ineq1.lhs**2,ineq1.rhs**2, evaluate=False)\n",
    "display(ineq1)\n",
    "\n"
   ]
  },
  {
   "cell_type": "code",
   "execution_count": null,
   "metadata": {},
   "outputs": [],
   "source": [
    "simplify(Lt(d2Im_dp2.subs(p,sols.args[1]),0))"
   ]
  },
  {
   "cell_type": "code",
   "execution_count": null,
   "metadata": {},
   "outputs": [],
   "source": [
    "sols"
   ]
  },
  {
   "cell_type": "code",
   "execution_count": null,
   "metadata": {},
   "outputs": [],
   "source": [
    "str(I_m_from_p_w_f)"
   ]
  },
  {
   "cell_type": "code",
   "execution_count": null,
   "metadata": {},
   "outputs": [],
   "source": []
  }
 ],
 "metadata": {
  "celltoolbar": "Slideshow",
  "kernelspec": {
   "display_name": "Python 3",
   "language": "python",
   "name": "python3"
  },
  "language_info": {
   "codemirror_mode": {
    "name": "ipython",
    "version": 3
   },
   "file_extension": ".py",
   "mimetype": "text/x-python",
   "name": "python",
   "nbconvert_exporter": "python",
   "pygments_lexer": "ipython3",
   "version": "3.7.4"
  }
 },
 "nbformat": 4,
 "nbformat_minor": 4
}
